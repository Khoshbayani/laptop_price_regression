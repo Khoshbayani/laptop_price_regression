{
 "cells": [
  {
   "cell_type": "code",
   "execution_count": 1,
   "id": "4ebcaa90",
   "metadata": {
    "ExecuteTime": {
     "end_time": "2024-10-07T16:48:45.755200300Z",
     "start_time": "2024-10-07T16:48:45.026582800Z"
    },
    "execution": {
     "iopub.execute_input": "2024-10-07T18:16:18.123488Z",
     "iopub.status.busy": "2024-10-07T18:16:18.122799Z",
     "iopub.status.idle": "2024-10-07T18:16:19.268903Z",
     "shell.execute_reply": "2024-10-07T18:16:19.267430Z"
    },
    "papermill": {
     "duration": 1.175398,
     "end_time": "2024-10-07T18:16:19.272386",
     "exception": false,
     "start_time": "2024-10-07T18:16:18.096988",
     "status": "completed"
    },
    "tags": []
   },
   "outputs": [],
   "source": [
    "import numpy as np \n",
    "import pandas as pd"
   ]
  },
  {
   "cell_type": "code",
   "execution_count": 2,
   "id": "b7824992",
   "metadata": {
    "ExecuteTime": {
     "end_time": "2024-10-07T16:48:45.755200300Z",
     "start_time": "2024-10-07T16:48:45.034635100Z"
    },
    "collapsed": false,
    "execution": {
     "iopub.execute_input": "2024-10-07T18:16:19.320060Z",
     "iopub.status.busy": "2024-10-07T18:16:19.319342Z",
     "iopub.status.idle": "2024-10-07T18:16:19.361721Z",
     "shell.execute_reply": "2024-10-07T18:16:19.360215Z"
    },
    "jupyter": {
     "outputs_hidden": false
    },
    "papermill": {
     "duration": 0.068937,
     "end_time": "2024-10-07T18:16:19.364786",
     "exception": false,
     "start_time": "2024-10-07T18:16:19.295849",
     "status": "completed"
    },
    "tags": []
   },
   "outputs": [],
   "source": [
    "data = pd.read_csv(\"/kaggle/input/laptop-prices/laptop_prices.csv\")"
   ]
  },
  {
   "cell_type": "code",
   "execution_count": 3,
   "id": "36fac2e0",
   "metadata": {
    "ExecuteTime": {
     "end_time": "2024-10-07T16:48:45.755200300Z",
     "start_time": "2024-10-07T16:48:45.048652500Z"
    },
    "collapsed": false,
    "execution": {
     "iopub.execute_input": "2024-10-07T18:16:19.410344Z",
     "iopub.status.busy": "2024-10-07T18:16:19.409759Z",
     "iopub.status.idle": "2024-10-07T18:16:19.420879Z",
     "shell.execute_reply": "2024-10-07T18:16:19.419110Z"
    },
    "jupyter": {
     "outputs_hidden": false
    },
    "papermill": {
     "duration": 0.037254,
     "end_time": "2024-10-07T18:16:19.423581",
     "exception": false,
     "start_time": "2024-10-07T18:16:19.386327",
     "status": "completed"
    },
    "tags": []
   },
   "outputs": [
    {
     "data": {
      "text/plain": [
       "(1275, 23)"
      ]
     },
     "execution_count": 3,
     "metadata": {},
     "output_type": "execute_result"
    }
   ],
   "source": [
    "data.shape"
   ]
  },
  {
   "cell_type": "code",
   "execution_count": 4,
   "id": "23db1359",
   "metadata": {
    "ExecuteTime": {
     "end_time": "2024-10-07T16:48:45.755200300Z",
     "start_time": "2024-10-07T16:48:45.064287Z"
    },
    "collapsed": false,
    "execution": {
     "iopub.execute_input": "2024-10-07T18:16:19.471066Z",
     "iopub.status.busy": "2024-10-07T18:16:19.470520Z",
     "iopub.status.idle": "2024-10-07T18:16:19.522040Z",
     "shell.execute_reply": "2024-10-07T18:16:19.520618Z"
    },
    "jupyter": {
     "outputs_hidden": false
    },
    "papermill": {
     "duration": 0.079393,
     "end_time": "2024-10-07T18:16:19.525173",
     "exception": false,
     "start_time": "2024-10-07T18:16:19.445780",
     "status": "completed"
    },
    "tags": []
   },
   "outputs": [
    {
     "data": {
      "text/html": [
       "<div>\n",
       "<style scoped>\n",
       "    .dataframe tbody tr th:only-of-type {\n",
       "        vertical-align: middle;\n",
       "    }\n",
       "\n",
       "    .dataframe tbody tr th {\n",
       "        vertical-align: top;\n",
       "    }\n",
       "\n",
       "    .dataframe thead th {\n",
       "        text-align: right;\n",
       "    }\n",
       "</style>\n",
       "<table border=\"1\" class=\"dataframe\">\n",
       "  <thead>\n",
       "    <tr style=\"text-align: right;\">\n",
       "      <th></th>\n",
       "      <th>Company</th>\n",
       "      <th>Product</th>\n",
       "      <th>TypeName</th>\n",
       "      <th>Inches</th>\n",
       "      <th>Ram</th>\n",
       "      <th>OS</th>\n",
       "      <th>Weight</th>\n",
       "      <th>Price_euros</th>\n",
       "      <th>Screen</th>\n",
       "      <th>ScreenW</th>\n",
       "      <th>...</th>\n",
       "      <th>RetinaDisplay</th>\n",
       "      <th>CPU_company</th>\n",
       "      <th>CPU_freq</th>\n",
       "      <th>CPU_model</th>\n",
       "      <th>PrimaryStorage</th>\n",
       "      <th>SecondaryStorage</th>\n",
       "      <th>PrimaryStorageType</th>\n",
       "      <th>SecondaryStorageType</th>\n",
       "      <th>GPU_company</th>\n",
       "      <th>GPU_model</th>\n",
       "    </tr>\n",
       "  </thead>\n",
       "  <tbody>\n",
       "    <tr>\n",
       "      <th>0</th>\n",
       "      <td>Apple</td>\n",
       "      <td>MacBook Pro</td>\n",
       "      <td>Ultrabook</td>\n",
       "      <td>13.3</td>\n",
       "      <td>8</td>\n",
       "      <td>macOS</td>\n",
       "      <td>1.37</td>\n",
       "      <td>1339.69</td>\n",
       "      <td>Standard</td>\n",
       "      <td>2560</td>\n",
       "      <td>...</td>\n",
       "      <td>Yes</td>\n",
       "      <td>Intel</td>\n",
       "      <td>2.3</td>\n",
       "      <td>Core i5</td>\n",
       "      <td>128</td>\n",
       "      <td>0</td>\n",
       "      <td>SSD</td>\n",
       "      <td>No</td>\n",
       "      <td>Intel</td>\n",
       "      <td>Iris Plus Graphics 640</td>\n",
       "    </tr>\n",
       "    <tr>\n",
       "      <th>1</th>\n",
       "      <td>Apple</td>\n",
       "      <td>Macbook Air</td>\n",
       "      <td>Ultrabook</td>\n",
       "      <td>13.3</td>\n",
       "      <td>8</td>\n",
       "      <td>macOS</td>\n",
       "      <td>1.34</td>\n",
       "      <td>898.94</td>\n",
       "      <td>Standard</td>\n",
       "      <td>1440</td>\n",
       "      <td>...</td>\n",
       "      <td>No</td>\n",
       "      <td>Intel</td>\n",
       "      <td>1.8</td>\n",
       "      <td>Core i5</td>\n",
       "      <td>128</td>\n",
       "      <td>0</td>\n",
       "      <td>Flash Storage</td>\n",
       "      <td>No</td>\n",
       "      <td>Intel</td>\n",
       "      <td>HD Graphics 6000</td>\n",
       "    </tr>\n",
       "    <tr>\n",
       "      <th>2</th>\n",
       "      <td>HP</td>\n",
       "      <td>250 G6</td>\n",
       "      <td>Notebook</td>\n",
       "      <td>15.6</td>\n",
       "      <td>8</td>\n",
       "      <td>No OS</td>\n",
       "      <td>1.86</td>\n",
       "      <td>575.00</td>\n",
       "      <td>Full HD</td>\n",
       "      <td>1920</td>\n",
       "      <td>...</td>\n",
       "      <td>No</td>\n",
       "      <td>Intel</td>\n",
       "      <td>2.5</td>\n",
       "      <td>Core i5 7200U</td>\n",
       "      <td>256</td>\n",
       "      <td>0</td>\n",
       "      <td>SSD</td>\n",
       "      <td>No</td>\n",
       "      <td>Intel</td>\n",
       "      <td>HD Graphics 620</td>\n",
       "    </tr>\n",
       "    <tr>\n",
       "      <th>3</th>\n",
       "      <td>Apple</td>\n",
       "      <td>MacBook Pro</td>\n",
       "      <td>Ultrabook</td>\n",
       "      <td>15.4</td>\n",
       "      <td>16</td>\n",
       "      <td>macOS</td>\n",
       "      <td>1.83</td>\n",
       "      <td>2537.45</td>\n",
       "      <td>Standard</td>\n",
       "      <td>2880</td>\n",
       "      <td>...</td>\n",
       "      <td>Yes</td>\n",
       "      <td>Intel</td>\n",
       "      <td>2.7</td>\n",
       "      <td>Core i7</td>\n",
       "      <td>512</td>\n",
       "      <td>0</td>\n",
       "      <td>SSD</td>\n",
       "      <td>No</td>\n",
       "      <td>AMD</td>\n",
       "      <td>Radeon Pro 455</td>\n",
       "    </tr>\n",
       "    <tr>\n",
       "      <th>4</th>\n",
       "      <td>Apple</td>\n",
       "      <td>MacBook Pro</td>\n",
       "      <td>Ultrabook</td>\n",
       "      <td>13.3</td>\n",
       "      <td>8</td>\n",
       "      <td>macOS</td>\n",
       "      <td>1.37</td>\n",
       "      <td>1803.60</td>\n",
       "      <td>Standard</td>\n",
       "      <td>2560</td>\n",
       "      <td>...</td>\n",
       "      <td>Yes</td>\n",
       "      <td>Intel</td>\n",
       "      <td>3.1</td>\n",
       "      <td>Core i5</td>\n",
       "      <td>256</td>\n",
       "      <td>0</td>\n",
       "      <td>SSD</td>\n",
       "      <td>No</td>\n",
       "      <td>Intel</td>\n",
       "      <td>Iris Plus Graphics 650</td>\n",
       "    </tr>\n",
       "  </tbody>\n",
       "</table>\n",
       "<p>5 rows × 23 columns</p>\n",
       "</div>"
      ],
      "text/plain": [
       "  Company      Product   TypeName  Inches  Ram     OS  Weight  Price_euros  \\\n",
       "0   Apple  MacBook Pro  Ultrabook    13.3    8  macOS    1.37      1339.69   \n",
       "1   Apple  Macbook Air  Ultrabook    13.3    8  macOS    1.34       898.94   \n",
       "2      HP       250 G6   Notebook    15.6    8  No OS    1.86       575.00   \n",
       "3   Apple  MacBook Pro  Ultrabook    15.4   16  macOS    1.83      2537.45   \n",
       "4   Apple  MacBook Pro  Ultrabook    13.3    8  macOS    1.37      1803.60   \n",
       "\n",
       "     Screen  ScreenW  ...  RetinaDisplay CPU_company CPU_freq      CPU_model  \\\n",
       "0  Standard     2560  ...            Yes       Intel      2.3        Core i5   \n",
       "1  Standard     1440  ...             No       Intel      1.8        Core i5   \n",
       "2   Full HD     1920  ...             No       Intel      2.5  Core i5 7200U   \n",
       "3  Standard     2880  ...            Yes       Intel      2.7        Core i7   \n",
       "4  Standard     2560  ...            Yes       Intel      3.1        Core i5   \n",
       "\n",
       "  PrimaryStorage  SecondaryStorage PrimaryStorageType  SecondaryStorageType  \\\n",
       "0            128                 0                SSD                    No   \n",
       "1            128                 0      Flash Storage                    No   \n",
       "2            256                 0                SSD                    No   \n",
       "3            512                 0                SSD                    No   \n",
       "4            256                 0                SSD                    No   \n",
       "\n",
       "   GPU_company               GPU_model  \n",
       "0        Intel  Iris Plus Graphics 640  \n",
       "1        Intel        HD Graphics 6000  \n",
       "2        Intel         HD Graphics 620  \n",
       "3          AMD          Radeon Pro 455  \n",
       "4        Intel  Iris Plus Graphics 650  \n",
       "\n",
       "[5 rows x 23 columns]"
      ]
     },
     "execution_count": 4,
     "metadata": {},
     "output_type": "execute_result"
    }
   ],
   "source": [
    "data.head()"
   ]
  },
  {
   "cell_type": "code",
   "execution_count": 5,
   "id": "516b922d",
   "metadata": {
    "ExecuteTime": {
     "end_time": "2024-10-07T16:48:45.755200300Z",
     "start_time": "2024-10-07T16:48:45.095542700Z"
    },
    "collapsed": false,
    "execution": {
     "iopub.execute_input": "2024-10-07T18:16:19.574146Z",
     "iopub.status.busy": "2024-10-07T18:16:19.572252Z",
     "iopub.status.idle": "2024-10-07T18:16:19.627175Z",
     "shell.execute_reply": "2024-10-07T18:16:19.625512Z"
    },
    "jupyter": {
     "outputs_hidden": false
    },
    "papermill": {
     "duration": 0.082385,
     "end_time": "2024-10-07T18:16:19.630449",
     "exception": false,
     "start_time": "2024-10-07T18:16:19.548064",
     "status": "completed"
    },
    "tags": []
   },
   "outputs": [
    {
     "data": {
      "text/html": [
       "<div>\n",
       "<style scoped>\n",
       "    .dataframe tbody tr th:only-of-type {\n",
       "        vertical-align: middle;\n",
       "    }\n",
       "\n",
       "    .dataframe tbody tr th {\n",
       "        vertical-align: top;\n",
       "    }\n",
       "\n",
       "    .dataframe thead th {\n",
       "        text-align: right;\n",
       "    }\n",
       "</style>\n",
       "<table border=\"1\" class=\"dataframe\">\n",
       "  <thead>\n",
       "    <tr style=\"text-align: right;\">\n",
       "      <th></th>\n",
       "      <th>Inches</th>\n",
       "      <th>Ram</th>\n",
       "      <th>Weight</th>\n",
       "      <th>Price_euros</th>\n",
       "      <th>ScreenW</th>\n",
       "      <th>ScreenH</th>\n",
       "      <th>CPU_freq</th>\n",
       "      <th>PrimaryStorage</th>\n",
       "      <th>SecondaryStorage</th>\n",
       "    </tr>\n",
       "  </thead>\n",
       "  <tbody>\n",
       "    <tr>\n",
       "      <th>count</th>\n",
       "      <td>1275.000000</td>\n",
       "      <td>1275.000000</td>\n",
       "      <td>1275.000000</td>\n",
       "      <td>1275.000000</td>\n",
       "      <td>1275.000000</td>\n",
       "      <td>1275.000000</td>\n",
       "      <td>1275.000000</td>\n",
       "      <td>1275.000000</td>\n",
       "      <td>1275.000000</td>\n",
       "    </tr>\n",
       "    <tr>\n",
       "      <th>mean</th>\n",
       "      <td>15.022902</td>\n",
       "      <td>8.440784</td>\n",
       "      <td>2.040525</td>\n",
       "      <td>1134.969059</td>\n",
       "      <td>1900.043922</td>\n",
       "      <td>1073.904314</td>\n",
       "      <td>2.302980</td>\n",
       "      <td>444.517647</td>\n",
       "      <td>176.069020</td>\n",
       "    </tr>\n",
       "    <tr>\n",
       "      <th>std</th>\n",
       "      <td>1.429470</td>\n",
       "      <td>5.097809</td>\n",
       "      <td>0.669196</td>\n",
       "      <td>700.752504</td>\n",
       "      <td>493.346186</td>\n",
       "      <td>283.883940</td>\n",
       "      <td>0.503846</td>\n",
       "      <td>365.537726</td>\n",
       "      <td>415.960655</td>\n",
       "    </tr>\n",
       "    <tr>\n",
       "      <th>min</th>\n",
       "      <td>10.100000</td>\n",
       "      <td>2.000000</td>\n",
       "      <td>0.690000</td>\n",
       "      <td>174.000000</td>\n",
       "      <td>1366.000000</td>\n",
       "      <td>768.000000</td>\n",
       "      <td>0.900000</td>\n",
       "      <td>8.000000</td>\n",
       "      <td>0.000000</td>\n",
       "    </tr>\n",
       "    <tr>\n",
       "      <th>25%</th>\n",
       "      <td>14.000000</td>\n",
       "      <td>4.000000</td>\n",
       "      <td>1.500000</td>\n",
       "      <td>609.000000</td>\n",
       "      <td>1920.000000</td>\n",
       "      <td>1080.000000</td>\n",
       "      <td>2.000000</td>\n",
       "      <td>256.000000</td>\n",
       "      <td>0.000000</td>\n",
       "    </tr>\n",
       "    <tr>\n",
       "      <th>50%</th>\n",
       "      <td>15.600000</td>\n",
       "      <td>8.000000</td>\n",
       "      <td>2.040000</td>\n",
       "      <td>989.000000</td>\n",
       "      <td>1920.000000</td>\n",
       "      <td>1080.000000</td>\n",
       "      <td>2.500000</td>\n",
       "      <td>256.000000</td>\n",
       "      <td>0.000000</td>\n",
       "    </tr>\n",
       "    <tr>\n",
       "      <th>75%</th>\n",
       "      <td>15.600000</td>\n",
       "      <td>8.000000</td>\n",
       "      <td>2.310000</td>\n",
       "      <td>1496.500000</td>\n",
       "      <td>1920.000000</td>\n",
       "      <td>1080.000000</td>\n",
       "      <td>2.700000</td>\n",
       "      <td>512.000000</td>\n",
       "      <td>0.000000</td>\n",
       "    </tr>\n",
       "    <tr>\n",
       "      <th>max</th>\n",
       "      <td>18.400000</td>\n",
       "      <td>64.000000</td>\n",
       "      <td>4.700000</td>\n",
       "      <td>6099.000000</td>\n",
       "      <td>3840.000000</td>\n",
       "      <td>2160.000000</td>\n",
       "      <td>3.600000</td>\n",
       "      <td>2048.000000</td>\n",
       "      <td>2048.000000</td>\n",
       "    </tr>\n",
       "  </tbody>\n",
       "</table>\n",
       "</div>"
      ],
      "text/plain": [
       "            Inches          Ram       Weight  Price_euros      ScreenW  \\\n",
       "count  1275.000000  1275.000000  1275.000000  1275.000000  1275.000000   \n",
       "mean     15.022902     8.440784     2.040525  1134.969059  1900.043922   \n",
       "std       1.429470     5.097809     0.669196   700.752504   493.346186   \n",
       "min      10.100000     2.000000     0.690000   174.000000  1366.000000   \n",
       "25%      14.000000     4.000000     1.500000   609.000000  1920.000000   \n",
       "50%      15.600000     8.000000     2.040000   989.000000  1920.000000   \n",
       "75%      15.600000     8.000000     2.310000  1496.500000  1920.000000   \n",
       "max      18.400000    64.000000     4.700000  6099.000000  3840.000000   \n",
       "\n",
       "           ScreenH     CPU_freq  PrimaryStorage  SecondaryStorage  \n",
       "count  1275.000000  1275.000000     1275.000000       1275.000000  \n",
       "mean   1073.904314     2.302980      444.517647        176.069020  \n",
       "std     283.883940     0.503846      365.537726        415.960655  \n",
       "min     768.000000     0.900000        8.000000          0.000000  \n",
       "25%    1080.000000     2.000000      256.000000          0.000000  \n",
       "50%    1080.000000     2.500000      256.000000          0.000000  \n",
       "75%    1080.000000     2.700000      512.000000          0.000000  \n",
       "max    2160.000000     3.600000     2048.000000       2048.000000  "
      ]
     },
     "execution_count": 5,
     "metadata": {},
     "output_type": "execute_result"
    }
   ],
   "source": [
    "data.describe()"
   ]
  },
  {
   "cell_type": "code",
   "execution_count": 6,
   "id": "fc851b15",
   "metadata": {
    "ExecuteTime": {
     "end_time": "2024-10-07T16:48:45.755200300Z",
     "start_time": "2024-10-07T16:48:45.126787700Z"
    },
    "collapsed": false,
    "execution": {
     "iopub.execute_input": "2024-10-07T18:16:19.681294Z",
     "iopub.status.busy": "2024-10-07T18:16:19.679986Z",
     "iopub.status.idle": "2024-10-07T18:16:19.693022Z",
     "shell.execute_reply": "2024-10-07T18:16:19.691615Z"
    },
    "jupyter": {
     "outputs_hidden": false
    },
    "papermill": {
     "duration": 0.041988,
     "end_time": "2024-10-07T18:16:19.696271",
     "exception": false,
     "start_time": "2024-10-07T18:16:19.654283",
     "status": "completed"
    },
    "tags": []
   },
   "outputs": [
    {
     "data": {
      "text/plain": [
       "0"
      ]
     },
     "execution_count": 6,
     "metadata": {},
     "output_type": "execute_result"
    }
   ],
   "source": [
    "data.isna().sum().sum()"
   ]
  },
  {
   "cell_type": "code",
   "execution_count": 7,
   "id": "34517466",
   "metadata": {
    "ExecuteTime": {
     "end_time": "2024-10-07T16:48:45.755200300Z",
     "start_time": "2024-10-07T16:48:45.142803Z"
    },
    "collapsed": false,
    "execution": {
     "iopub.execute_input": "2024-10-07T18:16:19.745086Z",
     "iopub.status.busy": "2024-10-07T18:16:19.743525Z",
     "iopub.status.idle": "2024-10-07T18:16:19.755944Z",
     "shell.execute_reply": "2024-10-07T18:16:19.754651Z"
    },
    "jupyter": {
     "outputs_hidden": false
    },
    "papermill": {
     "duration": 0.039757,
     "end_time": "2024-10-07T18:16:19.758668",
     "exception": false,
     "start_time": "2024-10-07T18:16:19.718911",
     "status": "completed"
    },
    "tags": []
   },
   "outputs": [
    {
     "data": {
      "text/plain": [
       "Company                  object\n",
       "Product                  object\n",
       "TypeName                 object\n",
       "Inches                  float64\n",
       "Ram                       int64\n",
       "OS                       object\n",
       "Weight                  float64\n",
       "Price_euros             float64\n",
       "Screen                   object\n",
       "ScreenW                   int64\n",
       "ScreenH                   int64\n",
       "Touchscreen              object\n",
       "IPSpanel                 object\n",
       "RetinaDisplay            object\n",
       "CPU_company              object\n",
       "CPU_freq                float64\n",
       "CPU_model                object\n",
       "PrimaryStorage            int64\n",
       "SecondaryStorage          int64\n",
       "PrimaryStorageType       object\n",
       "SecondaryStorageType     object\n",
       "GPU_company              object\n",
       "GPU_model                object\n",
       "dtype: object"
      ]
     },
     "execution_count": 7,
     "metadata": {},
     "output_type": "execute_result"
    }
   ],
   "source": [
    "data.dtypes"
   ]
  },
  {
   "cell_type": "code",
   "execution_count": 8,
   "id": "661ac736",
   "metadata": {
    "ExecuteTime": {
     "end_time": "2024-10-07T16:48:45.755200300Z",
     "start_time": "2024-10-07T16:48:45.158438800Z"
    },
    "collapsed": false,
    "execution": {
     "iopub.execute_input": "2024-10-07T18:16:19.807794Z",
     "iopub.status.busy": "2024-10-07T18:16:19.807299Z",
     "iopub.status.idle": "2024-10-07T18:16:19.828071Z",
     "shell.execute_reply": "2024-10-07T18:16:19.826502Z"
    },
    "jupyter": {
     "outputs_hidden": false
    },
    "papermill": {
     "duration": 0.048694,
     "end_time": "2024-10-07T18:16:19.830954",
     "exception": false,
     "start_time": "2024-10-07T18:16:19.782260",
     "status": "completed"
    },
    "tags": []
   },
   "outputs": [
    {
     "data": {
      "text/plain": [
       "array([ 174.  ,  191.9 ,  196.  ,  199.  ,  202.9 ,  209.  ,  210.8 ,\n",
       "        224.  ,  229.  ,  239.  ,  244.99,  245.  ,  248.9 ,  249.  ,\n",
       "        252.36,  255.  ,  258.  ,  259.  ,  260.  ,  265.  ,  269.  ,\n",
       "        270.62,  272.  ,  274.  ,  274.9 ,  274.99,  275.  ,  277.99,\n",
       "        278.  ,  279.  ,  286.  ,  287.9 ,  288.9 ,  289.  ,  292.  ,\n",
       "        295.  ,  297.  ,  298.  ,  299.  ,  304.  ,  304.45,  306.  ,\n",
       "        309.  ,  318.  ,  319.  ,  321.99,  324.  ,  325.  ,  329.  ,\n",
       "        330.  ,  333.  ,  339.  ,  340.  ,  344.  ,  344.99,  345.99,\n",
       "        347.  ,  348.  ,  349.  ,  355.  ,  359.  ,  359.99,  361.8 ,\n",
       "        363.51,  364.9 ,  367.  ,  368.  ,  369.  ,  375.  ,  379.  ,\n",
       "        380.  ,  384.  ,  385.  ,  387.  ,  389.  ,  390.  ,  393.49,\n",
       "        393.9 ,  395.  ,  397.  ,  398.  ,  398.49,  398.99,  399.  ,\n",
       "        400.  ,  403.  ,  403.5 ,  409.  ,  410.8 ,  412.  ,  414.9 ,\n",
       "        415.  ,  418.64,  419.  ,  426.  ,  428.  ,  429.  ,  435.  ,\n",
       "        438.69,  439.  ,  441.8 ,  443.9 ,  443.99,  444.  ,  445.9 ,\n",
       "        447.  ,  449.  ,  450.  ,  451.  ,  455.7 ,  459.  ,  459.9 ,\n",
       "        462.35,  465.  ,  465.62,  466.  ,  467.  ,  468.  ,  469.  ,\n",
       "        469.01,  470.34,  475.  ,  476.99,  478.  ,  478.89,  479.  ,\n",
       "        481.98,  485.  ,  488.69,  488.99,  489.  ,  489.9 ,  490.  ,\n",
       "        493.  ,  495.  ,  498.  ,  498.9 ,  499.  ,  500.  ,  509.  ,\n",
       "        519.  ,  520.9 ,  521.47,  521.86,  522.99,  523.63,  529.  ,\n",
       "        530.  ,  535.  ,  539.  ,  539.95,  540.  ,  544.  ,  544.15,\n",
       "        545.67,  547.  ,  549.  ,  549.99,  553.  ,  557.37,  558.6 ,\n",
       "        559.  ,  564.  ,  565.  ,  568.9 ,  569.  ,  572.  ,  573.  ,\n",
       "        575.  ,  577.  ,  579.  ,  581.9 ,  585.  ,  586.19,  586.6 ,\n",
       "        589.  ,  589.52,  590.  ,  597.  ,  597.57,  598.  ,  598.9 ,\n",
       "        598.99,  599.  ,  599.9 ,  602.  ,  603.  ,  609.  ,  612.61,\n",
       "        613.  ,  614.  ,  615.  ,  616.  ,  617.9 ,  618.99,  619.  ,\n",
       "        621.45,  629.  ,  630.  ,  636.  ,  638.  ,  638.8 ,  638.99,\n",
       "        639.  ,  639.01,  639.9 ,  646.27,  647.  ,  649.  ,  650.  ,\n",
       "        655.  ,  655.01,  657.  ,  659.  ,  659.01,  663.  ,  665.  ,\n",
       "        668.48,  669.  ,  675.  ,  677.35,  679.  ,  682.  ,  684.  ,\n",
       "        684.8 ,  684.99,  685.  ,  689.  ,  690.  ,  691.  ,  693.99,\n",
       "        695.  ,  698.  ,  699.  ,  702.  ,  705.15,  705.5 ,  708.06,\n",
       "        709.  ,  713.07,  713.99,  716.  ,  719.  ,  720.32,  722.  ,\n",
       "        726.  ,  728.  ,  729.  ,  729.9 ,  735.  ,  735.07,  735.87,\n",
       "        737.  ,  739.  ,  740.  ,  742.  ,  744.  ,  745.  ,  749.  ,\n",
       "        749.01,  750.  ,  752.  ,  754.  ,  755.  ,  759.  ,  764.  ,\n",
       "        767.8 ,  769.  ,  769.15,  769.99,  770.  ,  775.  ,  776.  ,\n",
       "        778.87,  779.  ,  780.  ,  784.  ,  785.  ,  787.  ,  788.49,\n",
       "        789.  ,  789.01,  789.81,  793.  ,  794.  ,  795.  ,  795.99,\n",
       "        797.41,  798.  ,  798.01,  799.  ,  800.  ,  805.  ,  805.99,\n",
       "        806.  ,  809.  ,  810.  ,  812.  ,  813.  ,  817.95,  818.35,\n",
       "        819.  ,  825.  ,  829.  ,  830.  ,  831.  ,  832.  ,  833.01,\n",
       "        836.  ,  836.6 ,  839.  ,  841.  ,  844.  ,  846.  ,  846.5 ,\n",
       "        847.  ,  849.  ,  849.9 ,  850.66,  854.  ,  855.  ,  857.07,\n",
       "        859.  ,  859.01,  860.  ,  865.  ,  867.  ,  869.  ,  869.01,\n",
       "        870.  ,  875.  ,  879.  ,  879.01,  880.  ,  881.  ,  884.  ,\n",
       "        889.  ,  891.  ,  895.  ,  895.01,  896.  ,  898.9 ,  898.94,\n",
       "        899.  ,  900.  ,  902.  ,  906.62,  909.  ,  910.  ,  911.  ,\n",
       "        912.5 ,  914.  ,  915.  ,  919.  ,  923.  ,  928.  ,  929.  ,\n",
       "        931.88,  932.  ,  935.  ,  938.  ,  940.  ,  941.  ,  943.  ,\n",
       "        945.  ,  949.  ,  951.  ,  955.  ,  959.  ,  960.  ,  961.  ,\n",
       "        970.9 ,  973.  ,  977.  ,  979.  ,  980.  ,  985.  ,  988.  ,\n",
       "        989.  ,  989.99,  990.  ,  997.9 ,  998.  ,  999.  ,  999.9 ,\n",
       "       1000.  , 1002.  , 1008.52, 1009.  , 1009.9 , 1010.  , 1010.51,\n",
       "       1011.99, 1017.  , 1018.  , 1018.99, 1020.  , 1026.  , 1027.74,\n",
       "       1029.  , 1030.99, 1031.  , 1034.  , 1039.  , 1043.  , 1045.  ,\n",
       "       1046.44, 1048.  , 1049.  , 1049.26, 1049.6 , 1049.9 , 1055.  ,\n",
       "       1059.  , 1060.  , 1060.49, 1062.95, 1064.  , 1070.  , 1072.  ,\n",
       "       1079.  , 1080.  , 1082.  , 1084.  , 1085.  , 1089.  , 1090.  ,\n",
       "       1094.  , 1095.  , 1096.  , 1096.16, 1097.  , 1099.  , 1099.99,\n",
       "       1103.  , 1105.  , 1109.  , 1116.02, 1116.99, 1118.  , 1119.  ,\n",
       "       1119.91, 1124.  , 1126.71, 1129.  , 1130.33, 1135.  , 1135.15,\n",
       "       1142.  , 1142.4 , 1142.75, 1142.8 , 1144.  , 1144.5 , 1145.  ,\n",
       "       1149.  , 1150.  , 1154.  , 1158.7 , 1159.  , 1163.  , 1165.  ,\n",
       "       1166.97, 1168.  , 1169.  , 1179.  , 1180.  , 1181.27, 1185.43,\n",
       "       1186.  , 1187.  , 1189.  , 1191.  , 1191.8 , 1193.  , 1195.  ,\n",
       "       1196.  , 1197.  , 1199.  , 1200.  , 1205.  , 1207.  , 1210.  ,\n",
       "       1213.  , 1215.38, 1219.  , 1219.24, 1224.  , 1228.99, 1229.  ,\n",
       "       1229.56, 1244.  , 1249.  , 1249.26, 1258.  , 1260.  , 1262.  ,\n",
       "       1262.4 , 1265.  , 1268.  , 1269.  , 1271.  , 1272.  , 1275.  ,\n",
       "       1279.  , 1279.73, 1280.  , 1285.  , 1292.  , 1294.  , 1296.99,\n",
       "       1298.  , 1299.  , 1300.  , 1304.  , 1305.  , 1312.49, 1315.  ,\n",
       "       1323.  , 1327.  , 1329.  , 1334.  , 1335.  , 1339.  , 1339.69,\n",
       "       1340.  , 1345.  , 1348.48, 1349.  , 1350.  , 1358.  , 1363.  ,\n",
       "       1364.  , 1369.  , 1369.9 , 1377.  , 1379.  , 1388.  , 1389.  ,\n",
       "       1390.  , 1396.  , 1398.  , 1398.99, 1399.  , 1399.95, 1403.  ,\n",
       "       1407.  , 1409.  , 1413.1 , 1419.  , 1425.  , 1426.66, 1427.  ,\n",
       "       1429.  , 1449.  , 1449.9 , 1458.  , 1460.  , 1465.  , 1468.  ,\n",
       "       1469.  , 1472.2 , 1474.  , 1475.  , 1476.11, 1477.  , 1479.  ,\n",
       "       1480.  , 1483.  , 1486.77, 1488.99, 1490.  , 1492.8 , 1495.  ,\n",
       "       1498.  , 1499.  , 1500.  , 1504.  , 1510.  , 1511.19, 1513.  ,\n",
       "       1518.55, 1529.  , 1534.  , 1535.  , 1537.39, 1539.  , 1545.64,\n",
       "       1549.  , 1559.  , 1561.  , 1579.  , 1584.  , 1590.  , 1591.  ,\n",
       "       1598.  , 1599.  , 1600.  , 1607.96, 1624.  , 1629.  , 1637.  ,\n",
       "       1639.  , 1649.  , 1650.  , 1655.  , 1669.  , 1670.  , 1672.  ,\n",
       "       1673.  , 1679.  , 1680.  , 1686.64, 1690.  , 1695.  , 1699.  ,\n",
       "       1700.  , 1713.37, 1713.49, 1725.  , 1729.  , 1738.27, 1747.  ,\n",
       "       1748.9 , 1749.  , 1750.  , 1757.42, 1760.  , 1763.  , 1764.  ,\n",
       "       1769.  , 1770.  , 1775.  , 1778.  , 1790.  , 1798.  , 1799.  ,\n",
       "       1803.6 , 1813.  , 1819.  , 1820.  , 1825.  , 1829.  , 1841.85,\n",
       "       1845.  , 1849.  , 1855.  , 1858.  , 1859.  , 1860.99, 1865.  ,\n",
       "       1867.85, 1869.  , 1870.  , 1873.  , 1875.  , 1877.  , 1887.21,\n",
       "       1890.  , 1891.  , 1895.  , 1899.  , 1900.  , 1903.  , 1907.99,\n",
       "       1908.  , 1925.  , 1929.  , 1935.  , 1943.  , 1948.99, 1949.  ,\n",
       "       1950.  , 1958.9 , 1962.98, 1962.99, 1965.  , 1969.  , 1970.  ,\n",
       "       1975.  , 1983.  , 1993.  , 1999.  , 2013.1 , 2014.  , 2025.  ,\n",
       "       2027.42, 2029.  , 2040.  , 2041.  , 2046.  , 2048.9 , 2049.  ,\n",
       "       2049.9 , 2050.38, 2051.  , 2064.9 , 2089.  , 2090.  , 2094.48,\n",
       "       2099.  , 2103.34, 2122.  , 2135.  , 2139.97, 2150.  , 2153.37,\n",
       "       2171.72, 2198.19, 2199.  , 2226.  , 2229.  , 2240.  , 2241.5 ,\n",
       "       2249.  , 2250.68, 2254.  , 2267.86, 2277.  , 2282.  , 2289.99,\n",
       "       2296.95, 2299.  , 2325.  , 2330.  , 2338.  , 2339.  , 2349.  ,\n",
       "       2350.  , 2370.  , 2382.  , 2397.  , 2399.  , 2408.  , 2415.  ,\n",
       "       2419.  , 2439.97, 2440.  , 2445.  , 2449.  , 2450.  , 2456.34,\n",
       "       2499.  , 2505.02, 2509.  , 2537.45, 2559.  , 2589.  , 2590.  ,\n",
       "       2599.  , 2620.  , 2625.  , 2639.  , 2649.  , 2663.  , 2680.  ,\n",
       "       2699.  , 2712.  , 2729.  , 2749.99, 2758.  , 2774.63, 2799.  ,\n",
       "       2800.  , 2813.75, 2824.  , 2858.  , 2868.99, 2884.86, 2899.  ,\n",
       "       2968.  , 2999.  , 3012.77, 3055.  , 3072.89, 3100.  , 3147.37,\n",
       "       3149.  , 3154.  , 3240.  , 3299.  , 3499.  , 3588.8 , 3659.4 ,\n",
       "       3890.  , 3949.4 , 3975.  , 4389.  , 4899.  , 5499.  , 6099.  ])"
      ]
     },
     "execution_count": 8,
     "metadata": {},
     "output_type": "execute_result"
    }
   ],
   "source": [
    "np.unique(data['Price_euros'])"
   ]
  },
  {
   "cell_type": "code",
   "execution_count": 9,
   "id": "97105ea7",
   "metadata": {
    "ExecuteTime": {
     "end_time": "2024-10-07T16:48:45.755200300Z",
     "start_time": "2024-10-07T16:48:45.174066300Z"
    },
    "collapsed": false,
    "execution": {
     "iopub.execute_input": "2024-10-07T18:16:19.879482Z",
     "iopub.status.busy": "2024-10-07T18:16:19.878954Z",
     "iopub.status.idle": "2024-10-07T18:16:19.907413Z",
     "shell.execute_reply": "2024-10-07T18:16:19.905844Z"
    },
    "jupyter": {
     "outputs_hidden": false
    },
    "papermill": {
     "duration": 0.056208,
     "end_time": "2024-10-07T18:16:19.910465",
     "exception": false,
     "start_time": "2024-10-07T18:16:19.854257",
     "status": "completed"
    },
    "tags": []
   },
   "outputs": [
    {
     "name": "stdout",
     "output_type": "stream",
     "text": [
      "Company                 [Apple, HP, Acer, Asus, Dell, Lenovo, Chuwi, M...\n",
      "Product                 [MacBook Pro, Macbook Air, 250 G6, Aspire 3, Z...\n",
      "TypeName                [Ultrabook, Notebook, Netbook, Gaming, 2 in 1 ...\n",
      "Inches                  [13.3, 15.6, 15.4, 14.0, 12.0, 11.6, 17.3, 10....\n",
      "Ram                                      [8, 16, 4, 2, 12, 6, 32, 24, 64]\n",
      "OS                      [macOS, No OS, Windows 10, Mac OS X, Linux, An...\n",
      "Weight                  [1.37, 1.34, 1.86, 1.83, 2.1, 2.04, 1.3, 1.6, ...\n",
      "Price_euros             [1339.69, 898.94, 575.0, 2537.45, 1803.6, 400....\n",
      "Screen                         [Standard, Full HD, Quad HD+, 4K Ultra HD]\n",
      "ScreenW                 [2560, 1440, 1920, 2880, 1366, 2304, 3200, 225...\n",
      "ScreenH                 [1600, 900, 1080, 1800, 768, 1440, 1200, 1504,...\n",
      "Touchscreen                                                     [No, Yes]\n",
      "IPSpanel                                                        [Yes, No]\n",
      "RetinaDisplay                                                   [Yes, No]\n",
      "CPU_company                                         [Intel, AMD, Samsung]\n",
      "CPU_freq                [2.3, 1.8, 2.5, 2.7, 3.1, 3.0, 2.2, 1.6, 2.0, ...\n",
      "CPU_model               [Core i5, Core i5 7200U, Core i7, A9-Series 94...\n",
      "PrimaryStorage          [128, 256, 512, 500, 1024, 32, 64, 2048, 16, 1...\n",
      "SecondaryStorage                           [0, 1024, 256, 2048, 500, 512]\n",
      "PrimaryStorageType                      [SSD, Flash Storage, HDD, Hybrid]\n",
      "SecondaryStorageType                               [No, HDD, SSD, Hybrid]\n",
      "GPU_company                                     [Intel, AMD, Nvidia, ARM]\n",
      "GPU_model               [Iris Plus Graphics 640, HD Graphics 6000, HD ...\n",
      "dtype: object\n"
     ]
    }
   ],
   "source": [
    "\n",
    "unique_values = data.apply(pd.Series.unique)\n",
    "\n",
    "print(unique_values)\n"
   ]
  },
  {
   "cell_type": "code",
   "execution_count": 10,
   "id": "d682c509",
   "metadata": {
    "ExecuteTime": {
     "end_time": "2024-10-07T16:48:45.755200300Z",
     "start_time": "2024-10-07T16:48:45.189702600Z"
    },
    "collapsed": false,
    "execution": {
     "iopub.execute_input": "2024-10-07T18:16:19.960975Z",
     "iopub.status.busy": "2024-10-07T18:16:19.959703Z",
     "iopub.status.idle": "2024-10-07T18:16:19.967900Z",
     "shell.execute_reply": "2024-10-07T18:16:19.966695Z"
    },
    "jupyter": {
     "outputs_hidden": false
    },
    "papermill": {
     "duration": 0.036152,
     "end_time": "2024-10-07T18:16:19.970491",
     "exception": false,
     "start_time": "2024-10-07T18:16:19.934339",
     "status": "completed"
    },
    "tags": []
   },
   "outputs": [],
   "source": [
    "data.drop([\"Product\",\"TypeName\",\"CPU_model\",\"GPU_model\"],axis=1,inplace=True)"
   ]
  },
  {
   "cell_type": "code",
   "execution_count": 11,
   "id": "380d793f",
   "metadata": {
    "ExecuteTime": {
     "end_time": "2024-10-07T16:48:45.755200300Z",
     "start_time": "2024-10-07T16:48:45.205313700Z"
    },
    "collapsed": false,
    "execution": {
     "iopub.execute_input": "2024-10-07T18:16:20.021193Z",
     "iopub.status.busy": "2024-10-07T18:16:20.020703Z",
     "iopub.status.idle": "2024-10-07T18:16:20.040660Z",
     "shell.execute_reply": "2024-10-07T18:16:20.039226Z"
    },
    "jupyter": {
     "outputs_hidden": false
    },
    "papermill": {
     "duration": 0.049319,
     "end_time": "2024-10-07T18:16:20.043745",
     "exception": false,
     "start_time": "2024-10-07T18:16:19.994426",
     "status": "completed"
    },
    "tags": []
   },
   "outputs": [
    {
     "name": "stdout",
     "output_type": "stream",
     "text": [
      "Company                 [Apple, HP, Acer, Asus, Dell, Lenovo, Chuwi, M...\n",
      "Inches                  [13.3, 15.6, 15.4, 14.0, 12.0, 11.6, 17.3, 10....\n",
      "Ram                                      [8, 16, 4, 2, 12, 6, 32, 24, 64]\n",
      "OS                      [macOS, No OS, Windows 10, Mac OS X, Linux, An...\n",
      "Weight                  [1.37, 1.34, 1.86, 1.83, 2.1, 2.04, 1.3, 1.6, ...\n",
      "Price_euros             [1339.69, 898.94, 575.0, 2537.45, 1803.6, 400....\n",
      "Screen                         [Standard, Full HD, Quad HD+, 4K Ultra HD]\n",
      "ScreenW                 [2560, 1440, 1920, 2880, 1366, 2304, 3200, 225...\n",
      "ScreenH                 [1600, 900, 1080, 1800, 768, 1440, 1200, 1504,...\n",
      "Touchscreen                                                     [No, Yes]\n",
      "IPSpanel                                                        [Yes, No]\n",
      "RetinaDisplay                                                   [Yes, No]\n",
      "CPU_company                                         [Intel, AMD, Samsung]\n",
      "CPU_freq                [2.3, 1.8, 2.5, 2.7, 3.1, 3.0, 2.2, 1.6, 2.0, ...\n",
      "PrimaryStorage          [128, 256, 512, 500, 1024, 32, 64, 2048, 16, 1...\n",
      "SecondaryStorage                           [0, 1024, 256, 2048, 500, 512]\n",
      "PrimaryStorageType                      [SSD, Flash Storage, HDD, Hybrid]\n",
      "SecondaryStorageType                               [No, HDD, SSD, Hybrid]\n",
      "GPU_company                                     [Intel, AMD, Nvidia, ARM]\n",
      "dtype: object\n"
     ]
    }
   ],
   "source": [
    "\n",
    "unique_values = data.apply(pd.Series.unique)\n",
    "\n",
    "print(unique_values)"
   ]
  },
  {
   "cell_type": "code",
   "execution_count": 12,
   "id": "ad200da0",
   "metadata": {
    "ExecuteTime": {
     "end_time": "2024-10-07T16:48:45.755200300Z",
     "start_time": "2024-10-07T16:48:45.220945100Z"
    },
    "collapsed": false,
    "execution": {
     "iopub.execute_input": "2024-10-07T18:16:20.092689Z",
     "iopub.status.busy": "2024-10-07T18:16:20.092266Z",
     "iopub.status.idle": "2024-10-07T18:16:20.102454Z",
     "shell.execute_reply": "2024-10-07T18:16:20.101077Z"
    },
    "jupyter": {
     "outputs_hidden": false
    },
    "papermill": {
     "duration": 0.037898,
     "end_time": "2024-10-07T18:16:20.105208",
     "exception": false,
     "start_time": "2024-10-07T18:16:20.067310",
     "status": "completed"
    },
    "tags": []
   },
   "outputs": [
    {
     "data": {
      "text/plain": [
       "array(['macOS', 'No OS', 'Windows 10', 'Mac OS X', 'Linux', 'Android',\n",
       "       'Windows 10 S', 'Chrome OS', 'Windows 7'], dtype=object)"
      ]
     },
     "execution_count": 12,
     "metadata": {},
     "output_type": "execute_result"
    }
   ],
   "source": [
    "data[\"OS\"].unique()"
   ]
  },
  {
   "cell_type": "code",
   "execution_count": 13,
   "id": "ecbbd5ca",
   "metadata": {
    "ExecuteTime": {
     "end_time": "2024-10-07T16:48:45.755200300Z",
     "start_time": "2024-10-07T16:48:45.236983900Z"
    },
    "collapsed": false,
    "execution": {
     "iopub.execute_input": "2024-10-07T18:16:20.156124Z",
     "iopub.status.busy": "2024-10-07T18:16:20.155598Z",
     "iopub.status.idle": "2024-10-07T18:16:20.169366Z",
     "shell.execute_reply": "2024-10-07T18:16:20.167962Z"
    },
    "jupyter": {
     "outputs_hidden": false
    },
    "papermill": {
     "duration": 0.042363,
     "end_time": "2024-10-07T18:16:20.172191",
     "exception": false,
     "start_time": "2024-10-07T18:16:20.129828",
     "status": "completed"
    },
    "tags": []
   },
   "outputs": [],
   "source": [
    "data[\"OS_price\"] = 0\n",
    "data.loc[data[\"OS\"] == \"Windows 7\",\"OS_price\"] = 35\n",
    "data.loc[data[\"OS\"] == \"Windows 10 S\",\"OS_price\"] = 50\n",
    "data.loc[data[\"OS\"] == \"Windows 10\",\"OS_price\"] = 150\n"
   ]
  },
  {
   "cell_type": "code",
   "execution_count": 14,
   "id": "04a3be9b",
   "metadata": {
    "ExecuteTime": {
     "end_time": "2024-10-07T16:48:45.755200300Z",
     "start_time": "2024-10-07T16:48:45.268267700Z"
    },
    "collapsed": false,
    "execution": {
     "iopub.execute_input": "2024-10-07T18:16:20.224396Z",
     "iopub.status.busy": "2024-10-07T18:16:20.223840Z",
     "iopub.status.idle": "2024-10-07T18:16:20.232396Z",
     "shell.execute_reply": "2024-10-07T18:16:20.230831Z"
    },
    "jupyter": {
     "outputs_hidden": false
    },
    "papermill": {
     "duration": 0.038966,
     "end_time": "2024-10-07T18:16:20.235171",
     "exception": false,
     "start_time": "2024-10-07T18:16:20.196205",
     "status": "completed"
    },
    "tags": []
   },
   "outputs": [],
   "source": [
    "data.drop([\"OS\"],axis=1,inplace=True)"
   ]
  },
  {
   "cell_type": "code",
   "execution_count": 15,
   "id": "20f09c48",
   "metadata": {
    "ExecuteTime": {
     "end_time": "2024-10-07T16:48:45.755200300Z",
     "start_time": "2024-10-07T16:48:45.284534600Z"
    },
    "collapsed": false,
    "execution": {
     "iopub.execute_input": "2024-10-07T18:16:20.286077Z",
     "iopub.status.busy": "2024-10-07T18:16:20.283944Z",
     "iopub.status.idle": "2024-10-07T18:16:20.311750Z",
     "shell.execute_reply": "2024-10-07T18:16:20.310221Z"
    },
    "jupyter": {
     "outputs_hidden": false
    },
    "papermill": {
     "duration": 0.056193,
     "end_time": "2024-10-07T18:16:20.314864",
     "exception": false,
     "start_time": "2024-10-07T18:16:20.258671",
     "status": "completed"
    },
    "tags": []
   },
   "outputs": [
    {
     "data": {
      "text/html": [
       "<div>\n",
       "<style scoped>\n",
       "    .dataframe tbody tr th:only-of-type {\n",
       "        vertical-align: middle;\n",
       "    }\n",
       "\n",
       "    .dataframe tbody tr th {\n",
       "        vertical-align: top;\n",
       "    }\n",
       "\n",
       "    .dataframe thead th {\n",
       "        text-align: right;\n",
       "    }\n",
       "</style>\n",
       "<table border=\"1\" class=\"dataframe\">\n",
       "  <thead>\n",
       "    <tr style=\"text-align: right;\">\n",
       "      <th></th>\n",
       "      <th>Company</th>\n",
       "      <th>Inches</th>\n",
       "      <th>Ram</th>\n",
       "      <th>Weight</th>\n",
       "      <th>Price_euros</th>\n",
       "      <th>Screen</th>\n",
       "      <th>ScreenW</th>\n",
       "      <th>ScreenH</th>\n",
       "      <th>Touchscreen</th>\n",
       "      <th>IPSpanel</th>\n",
       "      <th>RetinaDisplay</th>\n",
       "      <th>CPU_company</th>\n",
       "      <th>CPU_freq</th>\n",
       "      <th>PrimaryStorage</th>\n",
       "      <th>SecondaryStorage</th>\n",
       "      <th>PrimaryStorageType</th>\n",
       "      <th>SecondaryStorageType</th>\n",
       "      <th>GPU_company</th>\n",
       "      <th>OS_price</th>\n",
       "    </tr>\n",
       "  </thead>\n",
       "  <tbody>\n",
       "    <tr>\n",
       "      <th>0</th>\n",
       "      <td>Apple</td>\n",
       "      <td>13.3</td>\n",
       "      <td>8</td>\n",
       "      <td>1.37</td>\n",
       "      <td>1339.69</td>\n",
       "      <td>Standard</td>\n",
       "      <td>2560</td>\n",
       "      <td>1600</td>\n",
       "      <td>No</td>\n",
       "      <td>Yes</td>\n",
       "      <td>Yes</td>\n",
       "      <td>Intel</td>\n",
       "      <td>2.3</td>\n",
       "      <td>128</td>\n",
       "      <td>0</td>\n",
       "      <td>SSD</td>\n",
       "      <td>No</td>\n",
       "      <td>Intel</td>\n",
       "      <td>0</td>\n",
       "    </tr>\n",
       "    <tr>\n",
       "      <th>1</th>\n",
       "      <td>Apple</td>\n",
       "      <td>13.3</td>\n",
       "      <td>8</td>\n",
       "      <td>1.34</td>\n",
       "      <td>898.94</td>\n",
       "      <td>Standard</td>\n",
       "      <td>1440</td>\n",
       "      <td>900</td>\n",
       "      <td>No</td>\n",
       "      <td>No</td>\n",
       "      <td>No</td>\n",
       "      <td>Intel</td>\n",
       "      <td>1.8</td>\n",
       "      <td>128</td>\n",
       "      <td>0</td>\n",
       "      <td>Flash Storage</td>\n",
       "      <td>No</td>\n",
       "      <td>Intel</td>\n",
       "      <td>0</td>\n",
       "    </tr>\n",
       "    <tr>\n",
       "      <th>2</th>\n",
       "      <td>HP</td>\n",
       "      <td>15.6</td>\n",
       "      <td>8</td>\n",
       "      <td>1.86</td>\n",
       "      <td>575.00</td>\n",
       "      <td>Full HD</td>\n",
       "      <td>1920</td>\n",
       "      <td>1080</td>\n",
       "      <td>No</td>\n",
       "      <td>No</td>\n",
       "      <td>No</td>\n",
       "      <td>Intel</td>\n",
       "      <td>2.5</td>\n",
       "      <td>256</td>\n",
       "      <td>0</td>\n",
       "      <td>SSD</td>\n",
       "      <td>No</td>\n",
       "      <td>Intel</td>\n",
       "      <td>0</td>\n",
       "    </tr>\n",
       "    <tr>\n",
       "      <th>3</th>\n",
       "      <td>Apple</td>\n",
       "      <td>15.4</td>\n",
       "      <td>16</td>\n",
       "      <td>1.83</td>\n",
       "      <td>2537.45</td>\n",
       "      <td>Standard</td>\n",
       "      <td>2880</td>\n",
       "      <td>1800</td>\n",
       "      <td>No</td>\n",
       "      <td>Yes</td>\n",
       "      <td>Yes</td>\n",
       "      <td>Intel</td>\n",
       "      <td>2.7</td>\n",
       "      <td>512</td>\n",
       "      <td>0</td>\n",
       "      <td>SSD</td>\n",
       "      <td>No</td>\n",
       "      <td>AMD</td>\n",
       "      <td>0</td>\n",
       "    </tr>\n",
       "    <tr>\n",
       "      <th>4</th>\n",
       "      <td>Apple</td>\n",
       "      <td>13.3</td>\n",
       "      <td>8</td>\n",
       "      <td>1.37</td>\n",
       "      <td>1803.60</td>\n",
       "      <td>Standard</td>\n",
       "      <td>2560</td>\n",
       "      <td>1600</td>\n",
       "      <td>No</td>\n",
       "      <td>Yes</td>\n",
       "      <td>Yes</td>\n",
       "      <td>Intel</td>\n",
       "      <td>3.1</td>\n",
       "      <td>256</td>\n",
       "      <td>0</td>\n",
       "      <td>SSD</td>\n",
       "      <td>No</td>\n",
       "      <td>Intel</td>\n",
       "      <td>0</td>\n",
       "    </tr>\n",
       "  </tbody>\n",
       "</table>\n",
       "</div>"
      ],
      "text/plain": [
       "  Company  Inches  Ram  Weight  Price_euros    Screen  ScreenW  ScreenH  \\\n",
       "0   Apple    13.3    8    1.37      1339.69  Standard     2560     1600   \n",
       "1   Apple    13.3    8    1.34       898.94  Standard     1440      900   \n",
       "2      HP    15.6    8    1.86       575.00   Full HD     1920     1080   \n",
       "3   Apple    15.4   16    1.83      2537.45  Standard     2880     1800   \n",
       "4   Apple    13.3    8    1.37      1803.60  Standard     2560     1600   \n",
       "\n",
       "  Touchscreen IPSpanel RetinaDisplay CPU_company  CPU_freq  PrimaryStorage  \\\n",
       "0          No      Yes           Yes       Intel       2.3             128   \n",
       "1          No       No            No       Intel       1.8             128   \n",
       "2          No       No            No       Intel       2.5             256   \n",
       "3          No      Yes           Yes       Intel       2.7             512   \n",
       "4          No      Yes           Yes       Intel       3.1             256   \n",
       "\n",
       "   SecondaryStorage PrimaryStorageType SecondaryStorageType GPU_company  \\\n",
       "0                 0                SSD                   No       Intel   \n",
       "1                 0      Flash Storage                   No       Intel   \n",
       "2                 0                SSD                   No       Intel   \n",
       "3                 0                SSD                   No         AMD   \n",
       "4                 0                SSD                   No       Intel   \n",
       "\n",
       "   OS_price  \n",
       "0         0  \n",
       "1         0  \n",
       "2         0  \n",
       "3         0  \n",
       "4         0  "
      ]
     },
     "execution_count": 15,
     "metadata": {},
     "output_type": "execute_result"
    }
   ],
   "source": [
    "data.head()"
   ]
  },
  {
   "cell_type": "code",
   "execution_count": 16,
   "id": "6a6f9813",
   "metadata": {
    "ExecuteTime": {
     "end_time": "2024-10-07T16:48:45.755200300Z",
     "start_time": "2024-10-07T16:48:45.334878100Z"
    },
    "collapsed": false,
    "execution": {
     "iopub.execute_input": "2024-10-07T18:16:20.365303Z",
     "iopub.status.busy": "2024-10-07T18:16:20.364762Z",
     "iopub.status.idle": "2024-10-07T18:16:20.377738Z",
     "shell.execute_reply": "2024-10-07T18:16:20.376207Z"
    },
    "jupyter": {
     "outputs_hidden": false
    },
    "papermill": {
     "duration": 0.042,
     "end_time": "2024-10-07T18:16:20.380661",
     "exception": false,
     "start_time": "2024-10-07T18:16:20.338661",
     "status": "completed"
    },
    "tags": []
   },
   "outputs": [
    {
     "data": {
      "text/plain": [
       "0"
      ]
     },
     "execution_count": 16,
     "metadata": {},
     "output_type": "execute_result"
    }
   ],
   "source": [
    "data.isna().sum().sum()"
   ]
  },
  {
   "cell_type": "code",
   "execution_count": 17,
   "id": "0dd67bc3",
   "metadata": {
    "ExecuteTime": {
     "end_time": "2024-10-07T16:48:45.755200300Z",
     "start_time": "2024-10-07T16:48:45.347117900Z"
    },
    "collapsed": false,
    "execution": {
     "iopub.execute_input": "2024-10-07T18:16:20.432124Z",
     "iopub.status.busy": "2024-10-07T18:16:20.431548Z",
     "iopub.status.idle": "2024-10-07T18:16:20.441701Z",
     "shell.execute_reply": "2024-10-07T18:16:20.439963Z"
    },
    "jupyter": {
     "outputs_hidden": false
    },
    "papermill": {
     "duration": 0.040248,
     "end_time": "2024-10-07T18:16:20.444767",
     "exception": false,
     "start_time": "2024-10-07T18:16:20.404519",
     "status": "completed"
    },
    "tags": []
   },
   "outputs": [
    {
     "data": {
      "text/plain": [
       "array(['Standard', 'Full HD', 'Quad HD+', '4K Ultra HD'], dtype=object)"
      ]
     },
     "execution_count": 17,
     "metadata": {},
     "output_type": "execute_result"
    }
   ],
   "source": [
    "data['Screen'].unique()"
   ]
  },
  {
   "cell_type": "code",
   "execution_count": 18,
   "id": "eefcf181",
   "metadata": {
    "ExecuteTime": {
     "end_time": "2024-10-07T16:48:45.755200300Z",
     "start_time": "2024-10-07T16:48:45.362976200Z"
    },
    "collapsed": false,
    "execution": {
     "iopub.execute_input": "2024-10-07T18:16:20.499121Z",
     "iopub.status.busy": "2024-10-07T18:16:20.497073Z",
     "iopub.status.idle": "2024-10-07T18:16:20.512014Z",
     "shell.execute_reply": "2024-10-07T18:16:20.510432Z"
    },
    "jupyter": {
     "outputs_hidden": false
    },
    "papermill": {
     "duration": 0.045253,
     "end_time": "2024-10-07T18:16:20.515183",
     "exception": false,
     "start_time": "2024-10-07T18:16:20.469930",
     "status": "completed"
    },
    "tags": []
   },
   "outputs": [],
   "source": [
    "data[\"Screen_Score\"] = None\n",
    "data.loc[data['Screen'] == 'Standard', 'Screen_Score'] = 40\n",
    "data.loc[data['Screen'] == 'Full HD', 'Screen_Score'] = 60\n",
    "data.loc[data['Screen'] == 'Quad HD+', 'Screen_Score'] = 80\n",
    "data.loc[data['Screen'] == '4K Ultra HD', 'Screen_Score'] = 95\n"
   ]
  },
  {
   "cell_type": "code",
   "execution_count": 19,
   "id": "91953994",
   "metadata": {
    "ExecuteTime": {
     "end_time": "2024-10-07T16:48:45.755200300Z",
     "start_time": "2024-10-07T16:48:45.378382600Z"
    },
    "collapsed": false,
    "execution": {
     "iopub.execute_input": "2024-10-07T18:16:20.567093Z",
     "iopub.status.busy": "2024-10-07T18:16:20.566503Z",
     "iopub.status.idle": "2024-10-07T18:16:20.575863Z",
     "shell.execute_reply": "2024-10-07T18:16:20.574470Z"
    },
    "jupyter": {
     "outputs_hidden": false
    },
    "papermill": {
     "duration": 0.038435,
     "end_time": "2024-10-07T18:16:20.578392",
     "exception": false,
     "start_time": "2024-10-07T18:16:20.539957",
     "status": "completed"
    },
    "tags": []
   },
   "outputs": [
    {
     "data": {
      "text/plain": [
       "array([40, 60, 80, 95], dtype=object)"
      ]
     },
     "execution_count": 19,
     "metadata": {},
     "output_type": "execute_result"
    }
   ],
   "source": [
    "data[\"Screen_Score\"].unique()"
   ]
  },
  {
   "cell_type": "code",
   "execution_count": 20,
   "id": "5b55ee77",
   "metadata": {
    "ExecuteTime": {
     "end_time": "2024-10-07T16:48:45.755200300Z",
     "start_time": "2024-10-07T16:48:45.394250900Z"
    },
    "collapsed": false,
    "execution": {
     "iopub.execute_input": "2024-10-07T18:16:20.629400Z",
     "iopub.status.busy": "2024-10-07T18:16:20.628839Z",
     "iopub.status.idle": "2024-10-07T18:16:20.636955Z",
     "shell.execute_reply": "2024-10-07T18:16:20.635571Z"
    },
    "jupyter": {
     "outputs_hidden": false
    },
    "papermill": {
     "duration": 0.036908,
     "end_time": "2024-10-07T18:16:20.639834",
     "exception": false,
     "start_time": "2024-10-07T18:16:20.602926",
     "status": "completed"
    },
    "tags": []
   },
   "outputs": [],
   "source": [
    "data.drop(columns=[\"Screen\"],inplace=True)"
   ]
  },
  {
   "cell_type": "code",
   "execution_count": 21,
   "id": "f4fdd2a6",
   "metadata": {
    "ExecuteTime": {
     "end_time": "2024-10-07T16:48:45.755200300Z",
     "start_time": "2024-10-07T16:48:45.409811800Z"
    },
    "collapsed": false,
    "execution": {
     "iopub.execute_input": "2024-10-07T18:16:20.693420Z",
     "iopub.status.busy": "2024-10-07T18:16:20.692858Z",
     "iopub.status.idle": "2024-10-07T18:16:20.720520Z",
     "shell.execute_reply": "2024-10-07T18:16:20.718947Z"
    },
    "jupyter": {
     "outputs_hidden": false
    },
    "papermill": {
     "duration": 0.058403,
     "end_time": "2024-10-07T18:16:20.723404",
     "exception": false,
     "start_time": "2024-10-07T18:16:20.665001",
     "status": "completed"
    },
    "tags": []
   },
   "outputs": [
    {
     "data": {
      "text/html": [
       "<div>\n",
       "<style scoped>\n",
       "    .dataframe tbody tr th:only-of-type {\n",
       "        vertical-align: middle;\n",
       "    }\n",
       "\n",
       "    .dataframe tbody tr th {\n",
       "        vertical-align: top;\n",
       "    }\n",
       "\n",
       "    .dataframe thead th {\n",
       "        text-align: right;\n",
       "    }\n",
       "</style>\n",
       "<table border=\"1\" class=\"dataframe\">\n",
       "  <thead>\n",
       "    <tr style=\"text-align: right;\">\n",
       "      <th></th>\n",
       "      <th>Company</th>\n",
       "      <th>Inches</th>\n",
       "      <th>Ram</th>\n",
       "      <th>Weight</th>\n",
       "      <th>Price_euros</th>\n",
       "      <th>ScreenW</th>\n",
       "      <th>ScreenH</th>\n",
       "      <th>Touchscreen</th>\n",
       "      <th>IPSpanel</th>\n",
       "      <th>RetinaDisplay</th>\n",
       "      <th>CPU_company</th>\n",
       "      <th>CPU_freq</th>\n",
       "      <th>PrimaryStorage</th>\n",
       "      <th>SecondaryStorage</th>\n",
       "      <th>PrimaryStorageType</th>\n",
       "      <th>SecondaryStorageType</th>\n",
       "      <th>GPU_company</th>\n",
       "      <th>OS_price</th>\n",
       "      <th>Screen_Score</th>\n",
       "    </tr>\n",
       "  </thead>\n",
       "  <tbody>\n",
       "    <tr>\n",
       "      <th>0</th>\n",
       "      <td>Apple</td>\n",
       "      <td>13.3</td>\n",
       "      <td>8</td>\n",
       "      <td>1.37</td>\n",
       "      <td>1339.69</td>\n",
       "      <td>2560</td>\n",
       "      <td>1600</td>\n",
       "      <td>No</td>\n",
       "      <td>Yes</td>\n",
       "      <td>Yes</td>\n",
       "      <td>Intel</td>\n",
       "      <td>2.3</td>\n",
       "      <td>128</td>\n",
       "      <td>0</td>\n",
       "      <td>SSD</td>\n",
       "      <td>No</td>\n",
       "      <td>Intel</td>\n",
       "      <td>0</td>\n",
       "      <td>40</td>\n",
       "    </tr>\n",
       "    <tr>\n",
       "      <th>1</th>\n",
       "      <td>Apple</td>\n",
       "      <td>13.3</td>\n",
       "      <td>8</td>\n",
       "      <td>1.34</td>\n",
       "      <td>898.94</td>\n",
       "      <td>1440</td>\n",
       "      <td>900</td>\n",
       "      <td>No</td>\n",
       "      <td>No</td>\n",
       "      <td>No</td>\n",
       "      <td>Intel</td>\n",
       "      <td>1.8</td>\n",
       "      <td>128</td>\n",
       "      <td>0</td>\n",
       "      <td>Flash Storage</td>\n",
       "      <td>No</td>\n",
       "      <td>Intel</td>\n",
       "      <td>0</td>\n",
       "      <td>40</td>\n",
       "    </tr>\n",
       "    <tr>\n",
       "      <th>2</th>\n",
       "      <td>HP</td>\n",
       "      <td>15.6</td>\n",
       "      <td>8</td>\n",
       "      <td>1.86</td>\n",
       "      <td>575.00</td>\n",
       "      <td>1920</td>\n",
       "      <td>1080</td>\n",
       "      <td>No</td>\n",
       "      <td>No</td>\n",
       "      <td>No</td>\n",
       "      <td>Intel</td>\n",
       "      <td>2.5</td>\n",
       "      <td>256</td>\n",
       "      <td>0</td>\n",
       "      <td>SSD</td>\n",
       "      <td>No</td>\n",
       "      <td>Intel</td>\n",
       "      <td>0</td>\n",
       "      <td>60</td>\n",
       "    </tr>\n",
       "    <tr>\n",
       "      <th>3</th>\n",
       "      <td>Apple</td>\n",
       "      <td>15.4</td>\n",
       "      <td>16</td>\n",
       "      <td>1.83</td>\n",
       "      <td>2537.45</td>\n",
       "      <td>2880</td>\n",
       "      <td>1800</td>\n",
       "      <td>No</td>\n",
       "      <td>Yes</td>\n",
       "      <td>Yes</td>\n",
       "      <td>Intel</td>\n",
       "      <td>2.7</td>\n",
       "      <td>512</td>\n",
       "      <td>0</td>\n",
       "      <td>SSD</td>\n",
       "      <td>No</td>\n",
       "      <td>AMD</td>\n",
       "      <td>0</td>\n",
       "      <td>40</td>\n",
       "    </tr>\n",
       "    <tr>\n",
       "      <th>4</th>\n",
       "      <td>Apple</td>\n",
       "      <td>13.3</td>\n",
       "      <td>8</td>\n",
       "      <td>1.37</td>\n",
       "      <td>1803.60</td>\n",
       "      <td>2560</td>\n",
       "      <td>1600</td>\n",
       "      <td>No</td>\n",
       "      <td>Yes</td>\n",
       "      <td>Yes</td>\n",
       "      <td>Intel</td>\n",
       "      <td>3.1</td>\n",
       "      <td>256</td>\n",
       "      <td>0</td>\n",
       "      <td>SSD</td>\n",
       "      <td>No</td>\n",
       "      <td>Intel</td>\n",
       "      <td>0</td>\n",
       "      <td>40</td>\n",
       "    </tr>\n",
       "  </tbody>\n",
       "</table>\n",
       "</div>"
      ],
      "text/plain": [
       "  Company  Inches  Ram  Weight  Price_euros  ScreenW  ScreenH Touchscreen  \\\n",
       "0   Apple    13.3    8    1.37      1339.69     2560     1600          No   \n",
       "1   Apple    13.3    8    1.34       898.94     1440      900          No   \n",
       "2      HP    15.6    8    1.86       575.00     1920     1080          No   \n",
       "3   Apple    15.4   16    1.83      2537.45     2880     1800          No   \n",
       "4   Apple    13.3    8    1.37      1803.60     2560     1600          No   \n",
       "\n",
       "  IPSpanel RetinaDisplay CPU_company  CPU_freq  PrimaryStorage  \\\n",
       "0      Yes           Yes       Intel       2.3             128   \n",
       "1       No            No       Intel       1.8             128   \n",
       "2       No            No       Intel       2.5             256   \n",
       "3      Yes           Yes       Intel       2.7             512   \n",
       "4      Yes           Yes       Intel       3.1             256   \n",
       "\n",
       "   SecondaryStorage PrimaryStorageType SecondaryStorageType GPU_company  \\\n",
       "0                 0                SSD                   No       Intel   \n",
       "1                 0      Flash Storage                   No       Intel   \n",
       "2                 0                SSD                   No       Intel   \n",
       "3                 0                SSD                   No         AMD   \n",
       "4                 0                SSD                   No       Intel   \n",
       "\n",
       "   OS_price Screen_Score  \n",
       "0         0           40  \n",
       "1         0           40  \n",
       "2         0           60  \n",
       "3         0           40  \n",
       "4         0           40  "
      ]
     },
     "execution_count": 21,
     "metadata": {},
     "output_type": "execute_result"
    }
   ],
   "source": [
    "data.head()"
   ]
  },
  {
   "cell_type": "code",
   "execution_count": 22,
   "id": "af617177",
   "metadata": {
    "ExecuteTime": {
     "end_time": "2024-10-07T16:48:45.755200300Z",
     "start_time": "2024-10-07T16:48:45.441288600Z"
    },
    "collapsed": false,
    "execution": {
     "iopub.execute_input": "2024-10-07T18:16:20.777417Z",
     "iopub.status.busy": "2024-10-07T18:16:20.776933Z",
     "iopub.status.idle": "2024-10-07T18:16:20.786738Z",
     "shell.execute_reply": "2024-10-07T18:16:20.785534Z"
    },
    "jupyter": {
     "outputs_hidden": false
    },
    "papermill": {
     "duration": 0.04062,
     "end_time": "2024-10-07T18:16:20.789715",
     "exception": false,
     "start_time": "2024-10-07T18:16:20.749095",
     "status": "completed"
    },
    "tags": []
   },
   "outputs": [
    {
     "data": {
      "text/plain": [
       "array(['SSD', 'Flash Storage', 'HDD', 'Hybrid'], dtype=object)"
      ]
     },
     "execution_count": 22,
     "metadata": {},
     "output_type": "execute_result"
    }
   ],
   "source": [
    "data[\"PrimaryStorageType\"].unique()"
   ]
  },
  {
   "cell_type": "code",
   "execution_count": 23,
   "id": "437f99de",
   "metadata": {
    "ExecuteTime": {
     "end_time": "2024-10-07T16:48:45.755200300Z",
     "start_time": "2024-10-07T16:48:45.456928800Z"
    },
    "collapsed": false,
    "execution": {
     "iopub.execute_input": "2024-10-07T18:16:20.844270Z",
     "iopub.status.busy": "2024-10-07T18:16:20.843714Z",
     "iopub.status.idle": "2024-10-07T18:16:20.853461Z",
     "shell.execute_reply": "2024-10-07T18:16:20.852059Z"
    },
    "jupyter": {
     "outputs_hidden": false
    },
    "papermill": {
     "duration": 0.040765,
     "end_time": "2024-10-07T18:16:20.856620",
     "exception": false,
     "start_time": "2024-10-07T18:16:20.815855",
     "status": "completed"
    },
    "tags": []
   },
   "outputs": [
    {
     "data": {
      "text/plain": [
       "array(['No', 'HDD', 'SSD', 'Hybrid'], dtype=object)"
      ]
     },
     "execution_count": 23,
     "metadata": {},
     "output_type": "execute_result"
    }
   ],
   "source": [
    "data[\"SecondaryStorageType\"].unique()"
   ]
  },
  {
   "cell_type": "code",
   "execution_count": null,
   "id": "b7e1f40f",
   "metadata": {
    "ExecuteTime": {
     "end_time": "2024-10-07T16:48:45.755200300Z",
     "start_time": "2024-10-07T16:48:45.472555900Z"
    },
    "collapsed": false,
    "jupyter": {
     "outputs_hidden": false
    },
    "papermill": {
     "duration": 0.024415,
     "end_time": "2024-10-07T18:16:20.906022",
     "exception": false,
     "start_time": "2024-10-07T18:16:20.881607",
     "status": "completed"
    },
    "tags": []
   },
   "outputs": [],
   "source": []
  },
  {
   "cell_type": "code",
   "execution_count": 24,
   "id": "20e2cb2d",
   "metadata": {
    "ExecuteTime": {
     "end_time": "2024-10-07T16:48:45.755200300Z",
     "start_time": "2024-10-07T16:48:45.488174800Z"
    },
    "collapsed": false,
    "execution": {
     "iopub.execute_input": "2024-10-07T18:16:20.961331Z",
     "iopub.status.busy": "2024-10-07T18:16:20.960881Z",
     "iopub.status.idle": "2024-10-07T18:16:20.979788Z",
     "shell.execute_reply": "2024-10-07T18:16:20.978412Z"
    },
    "jupyter": {
     "outputs_hidden": false
    },
    "papermill": {
     "duration": 0.048676,
     "end_time": "2024-10-07T18:16:20.982485",
     "exception": false,
     "start_time": "2024-10-07T18:16:20.933809",
     "status": "completed"
    },
    "tags": []
   },
   "outputs": [],
   "source": [
    "data[\"PrimaryStorageTypePrice\"] = None\n",
    "data.loc[data[\"PrimaryStorageType\"] == \"HDD\" , \"PrimaryStorageTypePrice\"] = 0.04\n",
    "data.loc[data[\"PrimaryStorageType\"] == \"Hybrid\" , \"PrimaryStorageTypePrice\"] = 0.09\n",
    "data.loc[data[\"PrimaryStorageType\"] == \"SSD\" , \"PrimaryStorageTypePrice\"] = 0.2\n",
    "data.loc[data[\"PrimaryStorageType\"] == \"Flash Storage\" , \"PrimaryStorageTypePrice\"] = 0.3\n",
    "\n",
    "\n",
    "\n",
    "data[\"SecondaryStorageTypePrice\"] = None\n",
    "data.loc[data[\"SecondaryStorageType\"] == \"No\" , \"SecondaryStorageTypePrice\"] = 0.0\n",
    "data.loc[data[\"SecondaryStorageType\"] == \"HDD\" , \"SecondaryStorageTypePrice\"] = 0.04\n",
    "data.loc[data[\"SecondaryStorageType\"] == \"Hybrid\" , \"SecondaryStorageTypePrice\"] = 0.09\n",
    "data.loc[data[\"SecondaryStorageType\"] == \"SSD\" , \"SecondaryStorageTypePrice\"] = 0.2"
   ]
  },
  {
   "cell_type": "code",
   "execution_count": 25,
   "id": "1abab5b1",
   "metadata": {
    "ExecuteTime": {
     "end_time": "2024-10-07T16:48:45.755200300Z",
     "start_time": "2024-10-07T16:48:45.503806300Z"
    },
    "collapsed": false,
    "execution": {
     "iopub.execute_input": "2024-10-07T18:16:21.035329Z",
     "iopub.status.busy": "2024-10-07T18:16:21.034883Z",
     "iopub.status.idle": "2024-10-07T18:16:21.043206Z",
     "shell.execute_reply": "2024-10-07T18:16:21.041882Z"
    },
    "jupyter": {
     "outputs_hidden": false
    },
    "papermill": {
     "duration": 0.038102,
     "end_time": "2024-10-07T18:16:21.046259",
     "exception": false,
     "start_time": "2024-10-07T18:16:21.008157",
     "status": "completed"
    },
    "tags": []
   },
   "outputs": [],
   "source": [
    "data.drop(columns=[\"PrimaryStorageType\",\"SecondaryStorageType\"],inplace=True)"
   ]
  },
  {
   "cell_type": "code",
   "execution_count": 26,
   "id": "9afdb1ea",
   "metadata": {
    "ExecuteTime": {
     "end_time": "2024-10-07T16:48:45.755200300Z",
     "start_time": "2024-10-07T16:48:45.519598900Z"
    },
    "collapsed": false,
    "execution": {
     "iopub.execute_input": "2024-10-07T18:16:21.100844Z",
     "iopub.status.busy": "2024-10-07T18:16:21.100416Z",
     "iopub.status.idle": "2024-10-07T18:16:21.125271Z",
     "shell.execute_reply": "2024-10-07T18:16:21.123760Z"
    },
    "jupyter": {
     "outputs_hidden": false
    },
    "papermill": {
     "duration": 0.054911,
     "end_time": "2024-10-07T18:16:21.127966",
     "exception": false,
     "start_time": "2024-10-07T18:16:21.073055",
     "status": "completed"
    },
    "tags": []
   },
   "outputs": [
    {
     "data": {
      "text/html": [
       "<div>\n",
       "<style scoped>\n",
       "    .dataframe tbody tr th:only-of-type {\n",
       "        vertical-align: middle;\n",
       "    }\n",
       "\n",
       "    .dataframe tbody tr th {\n",
       "        vertical-align: top;\n",
       "    }\n",
       "\n",
       "    .dataframe thead th {\n",
       "        text-align: right;\n",
       "    }\n",
       "</style>\n",
       "<table border=\"1\" class=\"dataframe\">\n",
       "  <thead>\n",
       "    <tr style=\"text-align: right;\">\n",
       "      <th></th>\n",
       "      <th>Company</th>\n",
       "      <th>Inches</th>\n",
       "      <th>Ram</th>\n",
       "      <th>Weight</th>\n",
       "      <th>Price_euros</th>\n",
       "      <th>ScreenW</th>\n",
       "      <th>ScreenH</th>\n",
       "      <th>Touchscreen</th>\n",
       "      <th>IPSpanel</th>\n",
       "      <th>RetinaDisplay</th>\n",
       "      <th>CPU_company</th>\n",
       "      <th>CPU_freq</th>\n",
       "      <th>PrimaryStorage</th>\n",
       "      <th>SecondaryStorage</th>\n",
       "      <th>GPU_company</th>\n",
       "      <th>OS_price</th>\n",
       "      <th>Screen_Score</th>\n",
       "      <th>PrimaryStorageTypePrice</th>\n",
       "      <th>SecondaryStorageTypePrice</th>\n",
       "    </tr>\n",
       "  </thead>\n",
       "  <tbody>\n",
       "    <tr>\n",
       "      <th>0</th>\n",
       "      <td>Apple</td>\n",
       "      <td>13.3</td>\n",
       "      <td>8</td>\n",
       "      <td>1.37</td>\n",
       "      <td>1339.69</td>\n",
       "      <td>2560</td>\n",
       "      <td>1600</td>\n",
       "      <td>No</td>\n",
       "      <td>Yes</td>\n",
       "      <td>Yes</td>\n",
       "      <td>Intel</td>\n",
       "      <td>2.3</td>\n",
       "      <td>128</td>\n",
       "      <td>0</td>\n",
       "      <td>Intel</td>\n",
       "      <td>0</td>\n",
       "      <td>40</td>\n",
       "      <td>0.2</td>\n",
       "      <td>0.0</td>\n",
       "    </tr>\n",
       "    <tr>\n",
       "      <th>1</th>\n",
       "      <td>Apple</td>\n",
       "      <td>13.3</td>\n",
       "      <td>8</td>\n",
       "      <td>1.34</td>\n",
       "      <td>898.94</td>\n",
       "      <td>1440</td>\n",
       "      <td>900</td>\n",
       "      <td>No</td>\n",
       "      <td>No</td>\n",
       "      <td>No</td>\n",
       "      <td>Intel</td>\n",
       "      <td>1.8</td>\n",
       "      <td>128</td>\n",
       "      <td>0</td>\n",
       "      <td>Intel</td>\n",
       "      <td>0</td>\n",
       "      <td>40</td>\n",
       "      <td>0.3</td>\n",
       "      <td>0.0</td>\n",
       "    </tr>\n",
       "    <tr>\n",
       "      <th>2</th>\n",
       "      <td>HP</td>\n",
       "      <td>15.6</td>\n",
       "      <td>8</td>\n",
       "      <td>1.86</td>\n",
       "      <td>575.00</td>\n",
       "      <td>1920</td>\n",
       "      <td>1080</td>\n",
       "      <td>No</td>\n",
       "      <td>No</td>\n",
       "      <td>No</td>\n",
       "      <td>Intel</td>\n",
       "      <td>2.5</td>\n",
       "      <td>256</td>\n",
       "      <td>0</td>\n",
       "      <td>Intel</td>\n",
       "      <td>0</td>\n",
       "      <td>60</td>\n",
       "      <td>0.2</td>\n",
       "      <td>0.0</td>\n",
       "    </tr>\n",
       "    <tr>\n",
       "      <th>3</th>\n",
       "      <td>Apple</td>\n",
       "      <td>15.4</td>\n",
       "      <td>16</td>\n",
       "      <td>1.83</td>\n",
       "      <td>2537.45</td>\n",
       "      <td>2880</td>\n",
       "      <td>1800</td>\n",
       "      <td>No</td>\n",
       "      <td>Yes</td>\n",
       "      <td>Yes</td>\n",
       "      <td>Intel</td>\n",
       "      <td>2.7</td>\n",
       "      <td>512</td>\n",
       "      <td>0</td>\n",
       "      <td>AMD</td>\n",
       "      <td>0</td>\n",
       "      <td>40</td>\n",
       "      <td>0.2</td>\n",
       "      <td>0.0</td>\n",
       "    </tr>\n",
       "    <tr>\n",
       "      <th>4</th>\n",
       "      <td>Apple</td>\n",
       "      <td>13.3</td>\n",
       "      <td>8</td>\n",
       "      <td>1.37</td>\n",
       "      <td>1803.60</td>\n",
       "      <td>2560</td>\n",
       "      <td>1600</td>\n",
       "      <td>No</td>\n",
       "      <td>Yes</td>\n",
       "      <td>Yes</td>\n",
       "      <td>Intel</td>\n",
       "      <td>3.1</td>\n",
       "      <td>256</td>\n",
       "      <td>0</td>\n",
       "      <td>Intel</td>\n",
       "      <td>0</td>\n",
       "      <td>40</td>\n",
       "      <td>0.2</td>\n",
       "      <td>0.0</td>\n",
       "    </tr>\n",
       "  </tbody>\n",
       "</table>\n",
       "</div>"
      ],
      "text/plain": [
       "  Company  Inches  Ram  Weight  Price_euros  ScreenW  ScreenH Touchscreen  \\\n",
       "0   Apple    13.3    8    1.37      1339.69     2560     1600          No   \n",
       "1   Apple    13.3    8    1.34       898.94     1440      900          No   \n",
       "2      HP    15.6    8    1.86       575.00     1920     1080          No   \n",
       "3   Apple    15.4   16    1.83      2537.45     2880     1800          No   \n",
       "4   Apple    13.3    8    1.37      1803.60     2560     1600          No   \n",
       "\n",
       "  IPSpanel RetinaDisplay CPU_company  CPU_freq  PrimaryStorage  \\\n",
       "0      Yes           Yes       Intel       2.3             128   \n",
       "1       No            No       Intel       1.8             128   \n",
       "2       No            No       Intel       2.5             256   \n",
       "3      Yes           Yes       Intel       2.7             512   \n",
       "4      Yes           Yes       Intel       3.1             256   \n",
       "\n",
       "   SecondaryStorage GPU_company  OS_price Screen_Score  \\\n",
       "0                 0       Intel         0           40   \n",
       "1                 0       Intel         0           40   \n",
       "2                 0       Intel         0           60   \n",
       "3                 0         AMD         0           40   \n",
       "4                 0       Intel         0           40   \n",
       "\n",
       "  PrimaryStorageTypePrice SecondaryStorageTypePrice  \n",
       "0                     0.2                       0.0  \n",
       "1                     0.3                       0.0  \n",
       "2                     0.2                       0.0  \n",
       "3                     0.2                       0.0  \n",
       "4                     0.2                       0.0  "
      ]
     },
     "execution_count": 26,
     "metadata": {},
     "output_type": "execute_result"
    }
   ],
   "source": [
    "data.head()"
   ]
  },
  {
   "cell_type": "code",
   "execution_count": 27,
   "id": "72a83405",
   "metadata": {
    "ExecuteTime": {
     "end_time": "2024-10-07T16:48:45.755200300Z",
     "start_time": "2024-10-07T16:48:45.550751800Z"
    },
    "collapsed": false,
    "execution": {
     "iopub.execute_input": "2024-10-07T18:16:21.195558Z",
     "iopub.status.busy": "2024-10-07T18:16:21.194713Z",
     "iopub.status.idle": "2024-10-07T18:16:21.212428Z",
     "shell.execute_reply": "2024-10-07T18:16:21.211350Z"
    },
    "jupyter": {
     "outputs_hidden": false
    },
    "papermill": {
     "duration": 0.059395,
     "end_time": "2024-10-07T18:16:21.215980",
     "exception": false,
     "start_time": "2024-10-07T18:16:21.156585",
     "status": "completed"
    },
    "tags": []
   },
   "outputs": [
    {
     "data": {
      "text/plain": [
       "Company                      0\n",
       "Inches                       0\n",
       "Ram                          0\n",
       "Weight                       0\n",
       "Price_euros                  0\n",
       "ScreenW                      0\n",
       "ScreenH                      0\n",
       "Touchscreen                  0\n",
       "IPSpanel                     0\n",
       "RetinaDisplay                0\n",
       "CPU_company                  0\n",
       "CPU_freq                     0\n",
       "PrimaryStorage               0\n",
       "SecondaryStorage             0\n",
       "GPU_company                  0\n",
       "OS_price                     0\n",
       "Screen_Score                 0\n",
       "PrimaryStorageTypePrice      0\n",
       "SecondaryStorageTypePrice    0\n",
       "dtype: int64"
      ]
     },
     "execution_count": 27,
     "metadata": {},
     "output_type": "execute_result"
    }
   ],
   "source": [
    "data.isna().sum()\n"
   ]
  },
  {
   "cell_type": "code",
   "execution_count": 28,
   "id": "9c492516",
   "metadata": {
    "ExecuteTime": {
     "end_time": "2024-10-07T16:48:45.755200300Z",
     "start_time": "2024-10-07T16:48:45.566374300Z"
    },
    "collapsed": false,
    "execution": {
     "iopub.execute_input": "2024-10-07T18:16:21.276395Z",
     "iopub.status.busy": "2024-10-07T18:16:21.275289Z",
     "iopub.status.idle": "2024-10-07T18:16:21.289940Z",
     "shell.execute_reply": "2024-10-07T18:16:21.288444Z"
    },
    "jupyter": {
     "outputs_hidden": false
    },
    "papermill": {
     "duration": 0.045408,
     "end_time": "2024-10-07T18:16:21.292801",
     "exception": false,
     "start_time": "2024-10-07T18:16:21.247393",
     "status": "completed"
    },
    "tags": []
   },
   "outputs": [
    {
     "data": {
      "text/plain": [
       "Company                       19\n",
       "Inches                        18\n",
       "Ram                            9\n",
       "Weight                       171\n",
       "Price_euros                  791\n",
       "ScreenW                       13\n",
       "ScreenH                       10\n",
       "Touchscreen                    2\n",
       "IPSpanel                       2\n",
       "RetinaDisplay                  2\n",
       "CPU_company                    3\n",
       "CPU_freq                      25\n",
       "PrimaryStorage                13\n",
       "SecondaryStorage               6\n",
       "GPU_company                    4\n",
       "OS_price                       4\n",
       "Screen_Score                   4\n",
       "PrimaryStorageTypePrice        4\n",
       "SecondaryStorageTypePrice      4\n",
       "dtype: int64"
      ]
     },
     "execution_count": 28,
     "metadata": {},
     "output_type": "execute_result"
    }
   ],
   "source": [
    "data.nunique()"
   ]
  },
  {
   "cell_type": "code",
   "execution_count": 29,
   "id": "4a9884d9",
   "metadata": {
    "ExecuteTime": {
     "end_time": "2024-10-07T16:48:45.755200300Z",
     "start_time": "2024-10-07T16:48:45.582574600Z"
    },
    "collapsed": false,
    "execution": {
     "iopub.execute_input": "2024-10-07T18:16:21.359647Z",
     "iopub.status.busy": "2024-10-07T18:16:21.359040Z",
     "iopub.status.idle": "2024-10-07T18:16:22.815490Z",
     "shell.execute_reply": "2024-10-07T18:16:22.813873Z"
    },
    "jupyter": {
     "outputs_hidden": false
    },
    "papermill": {
     "duration": 1.490549,
     "end_time": "2024-10-07T18:16:22.818975",
     "exception": false,
     "start_time": "2024-10-07T18:16:21.328426",
     "status": "completed"
    },
    "tags": []
   },
   "outputs": [],
   "source": [
    "from sklearn.preprocessing import LabelEncoder\n",
    "\n",
    "# Initialize LabelEncoder\n",
    "le = LabelEncoder()\n",
    "\n",
    "# Apply LabelEncoder to each column individually\n",
    "data[\"Touchscreen\"] = le.fit_transform(data[\"Touchscreen\"])\n",
    "data[\"IPSpanel\"] = le.fit_transform(data[\"IPSpanel\"])\n",
    "data[\"RetinaDisplay\"] = le.fit_transform(data[\"RetinaDisplay\"])\n"
   ]
  },
  {
   "cell_type": "code",
   "execution_count": 30,
   "id": "2699281d",
   "metadata": {
    "ExecuteTime": {
     "end_time": "2024-10-07T16:48:45.755200300Z",
     "start_time": "2024-10-07T16:48:45.598085200Z"
    },
    "collapsed": false,
    "execution": {
     "iopub.execute_input": "2024-10-07T18:16:22.875462Z",
     "iopub.status.busy": "2024-10-07T18:16:22.874696Z",
     "iopub.status.idle": "2024-10-07T18:16:22.901932Z",
     "shell.execute_reply": "2024-10-07T18:16:22.900363Z"
    },
    "jupyter": {
     "outputs_hidden": false
    },
    "papermill": {
     "duration": 0.05893,
     "end_time": "2024-10-07T18:16:22.904765",
     "exception": false,
     "start_time": "2024-10-07T18:16:22.845835",
     "status": "completed"
    },
    "tags": []
   },
   "outputs": [
    {
     "data": {
      "text/html": [
       "<div>\n",
       "<style scoped>\n",
       "    .dataframe tbody tr th:only-of-type {\n",
       "        vertical-align: middle;\n",
       "    }\n",
       "\n",
       "    .dataframe tbody tr th {\n",
       "        vertical-align: top;\n",
       "    }\n",
       "\n",
       "    .dataframe thead th {\n",
       "        text-align: right;\n",
       "    }\n",
       "</style>\n",
       "<table border=\"1\" class=\"dataframe\">\n",
       "  <thead>\n",
       "    <tr style=\"text-align: right;\">\n",
       "      <th></th>\n",
       "      <th>Company</th>\n",
       "      <th>Inches</th>\n",
       "      <th>Ram</th>\n",
       "      <th>Weight</th>\n",
       "      <th>Price_euros</th>\n",
       "      <th>ScreenW</th>\n",
       "      <th>ScreenH</th>\n",
       "      <th>Touchscreen</th>\n",
       "      <th>IPSpanel</th>\n",
       "      <th>RetinaDisplay</th>\n",
       "      <th>CPU_company</th>\n",
       "      <th>CPU_freq</th>\n",
       "      <th>PrimaryStorage</th>\n",
       "      <th>SecondaryStorage</th>\n",
       "      <th>GPU_company</th>\n",
       "      <th>OS_price</th>\n",
       "      <th>Screen_Score</th>\n",
       "      <th>PrimaryStorageTypePrice</th>\n",
       "      <th>SecondaryStorageTypePrice</th>\n",
       "    </tr>\n",
       "  </thead>\n",
       "  <tbody>\n",
       "    <tr>\n",
       "      <th>0</th>\n",
       "      <td>Apple</td>\n",
       "      <td>13.3</td>\n",
       "      <td>8</td>\n",
       "      <td>1.37</td>\n",
       "      <td>1339.69</td>\n",
       "      <td>2560</td>\n",
       "      <td>1600</td>\n",
       "      <td>0</td>\n",
       "      <td>1</td>\n",
       "      <td>1</td>\n",
       "      <td>Intel</td>\n",
       "      <td>2.3</td>\n",
       "      <td>128</td>\n",
       "      <td>0</td>\n",
       "      <td>Intel</td>\n",
       "      <td>0</td>\n",
       "      <td>40</td>\n",
       "      <td>0.2</td>\n",
       "      <td>0.0</td>\n",
       "    </tr>\n",
       "    <tr>\n",
       "      <th>1</th>\n",
       "      <td>Apple</td>\n",
       "      <td>13.3</td>\n",
       "      <td>8</td>\n",
       "      <td>1.34</td>\n",
       "      <td>898.94</td>\n",
       "      <td>1440</td>\n",
       "      <td>900</td>\n",
       "      <td>0</td>\n",
       "      <td>0</td>\n",
       "      <td>0</td>\n",
       "      <td>Intel</td>\n",
       "      <td>1.8</td>\n",
       "      <td>128</td>\n",
       "      <td>0</td>\n",
       "      <td>Intel</td>\n",
       "      <td>0</td>\n",
       "      <td>40</td>\n",
       "      <td>0.3</td>\n",
       "      <td>0.0</td>\n",
       "    </tr>\n",
       "    <tr>\n",
       "      <th>2</th>\n",
       "      <td>HP</td>\n",
       "      <td>15.6</td>\n",
       "      <td>8</td>\n",
       "      <td>1.86</td>\n",
       "      <td>575.00</td>\n",
       "      <td>1920</td>\n",
       "      <td>1080</td>\n",
       "      <td>0</td>\n",
       "      <td>0</td>\n",
       "      <td>0</td>\n",
       "      <td>Intel</td>\n",
       "      <td>2.5</td>\n",
       "      <td>256</td>\n",
       "      <td>0</td>\n",
       "      <td>Intel</td>\n",
       "      <td>0</td>\n",
       "      <td>60</td>\n",
       "      <td>0.2</td>\n",
       "      <td>0.0</td>\n",
       "    </tr>\n",
       "    <tr>\n",
       "      <th>3</th>\n",
       "      <td>Apple</td>\n",
       "      <td>15.4</td>\n",
       "      <td>16</td>\n",
       "      <td>1.83</td>\n",
       "      <td>2537.45</td>\n",
       "      <td>2880</td>\n",
       "      <td>1800</td>\n",
       "      <td>0</td>\n",
       "      <td>1</td>\n",
       "      <td>1</td>\n",
       "      <td>Intel</td>\n",
       "      <td>2.7</td>\n",
       "      <td>512</td>\n",
       "      <td>0</td>\n",
       "      <td>AMD</td>\n",
       "      <td>0</td>\n",
       "      <td>40</td>\n",
       "      <td>0.2</td>\n",
       "      <td>0.0</td>\n",
       "    </tr>\n",
       "    <tr>\n",
       "      <th>4</th>\n",
       "      <td>Apple</td>\n",
       "      <td>13.3</td>\n",
       "      <td>8</td>\n",
       "      <td>1.37</td>\n",
       "      <td>1803.60</td>\n",
       "      <td>2560</td>\n",
       "      <td>1600</td>\n",
       "      <td>0</td>\n",
       "      <td>1</td>\n",
       "      <td>1</td>\n",
       "      <td>Intel</td>\n",
       "      <td>3.1</td>\n",
       "      <td>256</td>\n",
       "      <td>0</td>\n",
       "      <td>Intel</td>\n",
       "      <td>0</td>\n",
       "      <td>40</td>\n",
       "      <td>0.2</td>\n",
       "      <td>0.0</td>\n",
       "    </tr>\n",
       "  </tbody>\n",
       "</table>\n",
       "</div>"
      ],
      "text/plain": [
       "  Company  Inches  Ram  Weight  Price_euros  ScreenW  ScreenH  Touchscreen  \\\n",
       "0   Apple    13.3    8    1.37      1339.69     2560     1600            0   \n",
       "1   Apple    13.3    8    1.34       898.94     1440      900            0   \n",
       "2      HP    15.6    8    1.86       575.00     1920     1080            0   \n",
       "3   Apple    15.4   16    1.83      2537.45     2880     1800            0   \n",
       "4   Apple    13.3    8    1.37      1803.60     2560     1600            0   \n",
       "\n",
       "   IPSpanel  RetinaDisplay CPU_company  CPU_freq  PrimaryStorage  \\\n",
       "0         1              1       Intel       2.3             128   \n",
       "1         0              0       Intel       1.8             128   \n",
       "2         0              0       Intel       2.5             256   \n",
       "3         1              1       Intel       2.7             512   \n",
       "4         1              1       Intel       3.1             256   \n",
       "\n",
       "   SecondaryStorage GPU_company  OS_price Screen_Score  \\\n",
       "0                 0       Intel         0           40   \n",
       "1                 0       Intel         0           40   \n",
       "2                 0       Intel         0           60   \n",
       "3                 0         AMD         0           40   \n",
       "4                 0       Intel         0           40   \n",
       "\n",
       "  PrimaryStorageTypePrice SecondaryStorageTypePrice  \n",
       "0                     0.2                       0.0  \n",
       "1                     0.3                       0.0  \n",
       "2                     0.2                       0.0  \n",
       "3                     0.2                       0.0  \n",
       "4                     0.2                       0.0  "
      ]
     },
     "execution_count": 30,
     "metadata": {},
     "output_type": "execute_result"
    }
   ],
   "source": [
    "data.head()"
   ]
  },
  {
   "cell_type": "code",
   "execution_count": 31,
   "id": "e6f7133d",
   "metadata": {
    "ExecuteTime": {
     "end_time": "2024-10-07T16:48:45.755200300Z",
     "start_time": "2024-10-07T16:48:45.635360100Z"
    },
    "collapsed": false,
    "execution": {
     "iopub.execute_input": "2024-10-07T18:16:22.960848Z",
     "iopub.status.busy": "2024-10-07T18:16:22.960341Z",
     "iopub.status.idle": "2024-10-07T18:16:22.969526Z",
     "shell.execute_reply": "2024-10-07T18:16:22.967914Z"
    },
    "jupyter": {
     "outputs_hidden": false
    },
    "papermill": {
     "duration": 0.040467,
     "end_time": "2024-10-07T18:16:22.972247",
     "exception": false,
     "start_time": "2024-10-07T18:16:22.931780",
     "status": "completed"
    },
    "tags": []
   },
   "outputs": [
    {
     "data": {
      "text/plain": [
       "19"
      ]
     },
     "execution_count": 31,
     "metadata": {},
     "output_type": "execute_result"
    }
   ],
   "source": [
    "data[\"Company\"].nunique()"
   ]
  },
  {
   "cell_type": "code",
   "execution_count": 32,
   "id": "859f7a00",
   "metadata": {
    "ExecuteTime": {
     "end_time": "2024-10-07T16:48:45.755200300Z",
     "start_time": "2024-10-07T16:48:45.645368800Z"
    },
    "collapsed": false,
    "execution": {
     "iopub.execute_input": "2024-10-07T18:16:23.028635Z",
     "iopub.status.busy": "2024-10-07T18:16:23.028167Z",
     "iopub.status.idle": "2024-10-07T18:16:23.039360Z",
     "shell.execute_reply": "2024-10-07T18:16:23.037891Z"
    },
    "jupyter": {
     "outputs_hidden": false
    },
    "papermill": {
     "duration": 0.043228,
     "end_time": "2024-10-07T18:16:23.041967",
     "exception": false,
     "start_time": "2024-10-07T18:16:22.998739",
     "status": "completed"
    },
    "tags": []
   },
   "outputs": [],
   "source": [
    "company_name, company_rows_count = np.unique(data[\"Company\"],return_counts=True)\n",
    "cpu_company_name, cpu_company_rows_count = np.unique(data[\"CPU_company\"],return_counts=True)\n",
    "gpu_company_name, gpu_company_rows_count = np.unique(data[\"GPU_company\"],return_counts=True)"
   ]
  },
  {
   "cell_type": "code",
   "execution_count": 33,
   "id": "7d6fbcd9",
   "metadata": {
    "ExecuteTime": {
     "end_time": "2024-10-07T16:48:45.755200300Z",
     "start_time": "2024-10-07T16:48:45.661003200Z"
    },
    "collapsed": false,
    "execution": {
     "iopub.execute_input": "2024-10-07T18:16:23.096476Z",
     "iopub.status.busy": "2024-10-07T18:16:23.096007Z",
     "iopub.status.idle": "2024-10-07T18:16:23.104172Z",
     "shell.execute_reply": "2024-10-07T18:16:23.102427Z"
    },
    "jupyter": {
     "outputs_hidden": false
    },
    "papermill": {
     "duration": 0.038837,
     "end_time": "2024-10-07T18:16:23.107109",
     "exception": false,
     "start_time": "2024-10-07T18:16:23.068272",
     "status": "completed"
    },
    "tags": []
   },
   "outputs": [
    {
     "name": "stdout",
     "output_type": "stream",
     "text": [
      "company_rows_count: 19\n",
      "cpu_company_rows_count: 3\n",
      "gpu_company_rows_count: 4\n"
     ]
    }
   ],
   "source": [
    "print(\"company_rows_count:\",len(company_rows_count))\n",
    "print(\"cpu_company_rows_count:\",len(cpu_company_rows_count))\n",
    "print(\"gpu_company_rows_count:\",len(gpu_company_rows_count))"
   ]
  },
  {
   "cell_type": "code",
   "execution_count": 34,
   "id": "4bc6a4a6",
   "metadata": {
    "ExecuteTime": {
     "end_time": "2024-10-07T16:48:45.755200300Z",
     "start_time": "2024-10-07T16:48:45.676635600Z"
    },
    "collapsed": false,
    "execution": {
     "iopub.execute_input": "2024-10-07T18:16:23.163183Z",
     "iopub.status.busy": "2024-10-07T18:16:23.162495Z",
     "iopub.status.idle": "2024-10-07T18:16:23.185074Z",
     "shell.execute_reply": "2024-10-07T18:16:23.183684Z"
    },
    "jupyter": {
     "outputs_hidden": false
    },
    "papermill": {
     "duration": 0.054345,
     "end_time": "2024-10-07T18:16:23.188004",
     "exception": false,
     "start_time": "2024-10-07T18:16:23.133659",
     "status": "completed"
    },
    "tags": []
   },
   "outputs": [],
   "source": [
    "for i in range(len(company_rows_count)):\n",
    "    if int(company_rows_count[i]) <= 10:\n",
    "        data = data[data[\"Company\"] != company_name[i]]\n",
    "        \n"
   ]
  },
  {
   "cell_type": "code",
   "execution_count": 35,
   "id": "e43d2369",
   "metadata": {
    "ExecuteTime": {
     "end_time": "2024-10-07T16:48:45.755200300Z",
     "start_time": "2024-10-07T16:48:45.707879600Z"
    },
    "collapsed": false,
    "execution": {
     "iopub.execute_input": "2024-10-07T18:16:23.244945Z",
     "iopub.status.busy": "2024-10-07T18:16:23.244392Z",
     "iopub.status.idle": "2024-10-07T18:16:23.258199Z",
     "shell.execute_reply": "2024-10-07T18:16:23.256668Z"
    },
    "jupyter": {
     "outputs_hidden": false
    },
    "papermill": {
     "duration": 0.045554,
     "end_time": "2024-10-07T18:16:23.260823",
     "exception": false,
     "start_time": "2024-10-07T18:16:23.215269",
     "status": "completed"
    },
    "tags": []
   },
   "outputs": [
    {
     "data": {
      "text/plain": [
       "Company                      0\n",
       "Inches                       0\n",
       "Ram                          0\n",
       "Weight                       0\n",
       "Price_euros                  0\n",
       "ScreenW                      0\n",
       "ScreenH                      0\n",
       "Touchscreen                  0\n",
       "IPSpanel                     0\n",
       "RetinaDisplay                0\n",
       "CPU_company                  0\n",
       "CPU_freq                     0\n",
       "PrimaryStorage               0\n",
       "SecondaryStorage             0\n",
       "GPU_company                  0\n",
       "OS_price                     0\n",
       "Screen_Score                 0\n",
       "PrimaryStorageTypePrice      0\n",
       "SecondaryStorageTypePrice    0\n",
       "dtype: int64"
      ]
     },
     "execution_count": 35,
     "metadata": {},
     "output_type": "execute_result"
    }
   ],
   "source": [
    "data.isna().sum()"
   ]
  },
  {
   "cell_type": "code",
   "execution_count": 36,
   "id": "88e873c1",
   "metadata": {
    "ExecuteTime": {
     "end_time": "2024-10-07T16:48:45.755200300Z",
     "start_time": "2024-10-07T16:48:45.723507Z"
    },
    "collapsed": false,
    "execution": {
     "iopub.execute_input": "2024-10-07T18:16:23.316412Z",
     "iopub.status.busy": "2024-10-07T18:16:23.315856Z",
     "iopub.status.idle": "2024-10-07T18:16:23.324993Z",
     "shell.execute_reply": "2024-10-07T18:16:23.323579Z"
    },
    "jupyter": {
     "outputs_hidden": false
    },
    "papermill": {
     "duration": 0.040283,
     "end_time": "2024-10-07T18:16:23.327716",
     "exception": false,
     "start_time": "2024-10-07T18:16:23.287433",
     "status": "completed"
    },
    "tags": []
   },
   "outputs": [
    {
     "data": {
      "text/plain": [
       "(1224, 19)"
      ]
     },
     "execution_count": 36,
     "metadata": {},
     "output_type": "execute_result"
    }
   ],
   "source": [
    "data.shape"
   ]
  },
  {
   "cell_type": "code",
   "execution_count": 37,
   "id": "a2c45c1f",
   "metadata": {
    "ExecuteTime": {
     "end_time": "2024-10-07T16:48:45.936043800Z",
     "start_time": "2024-10-07T16:48:45.739525800Z"
    },
    "collapsed": false,
    "execution": {
     "iopub.execute_input": "2024-10-07T18:16:23.384958Z",
     "iopub.status.busy": "2024-10-07T18:16:23.384373Z",
     "iopub.status.idle": "2024-10-07T18:16:23.409820Z",
     "shell.execute_reply": "2024-10-07T18:16:23.408576Z"
    },
    "jupyter": {
     "outputs_hidden": false
    },
    "papermill": {
     "duration": 0.058223,
     "end_time": "2024-10-07T18:16:23.412584",
     "exception": false,
     "start_time": "2024-10-07T18:16:23.354361",
     "status": "completed"
    },
    "tags": []
   },
   "outputs": [
    {
     "data": {
      "text/html": [
       "<div>\n",
       "<style scoped>\n",
       "    .dataframe tbody tr th:only-of-type {\n",
       "        vertical-align: middle;\n",
       "    }\n",
       "\n",
       "    .dataframe tbody tr th {\n",
       "        vertical-align: top;\n",
       "    }\n",
       "\n",
       "    .dataframe thead th {\n",
       "        text-align: right;\n",
       "    }\n",
       "</style>\n",
       "<table border=\"1\" class=\"dataframe\">\n",
       "  <thead>\n",
       "    <tr style=\"text-align: right;\">\n",
       "      <th></th>\n",
       "      <th>Company</th>\n",
       "      <th>Inches</th>\n",
       "      <th>Ram</th>\n",
       "      <th>Weight</th>\n",
       "      <th>Price_euros</th>\n",
       "      <th>ScreenW</th>\n",
       "      <th>ScreenH</th>\n",
       "      <th>Touchscreen</th>\n",
       "      <th>IPSpanel</th>\n",
       "      <th>RetinaDisplay</th>\n",
       "      <th>CPU_company</th>\n",
       "      <th>CPU_freq</th>\n",
       "      <th>PrimaryStorage</th>\n",
       "      <th>SecondaryStorage</th>\n",
       "      <th>GPU_company</th>\n",
       "      <th>OS_price</th>\n",
       "      <th>Screen_Score</th>\n",
       "      <th>PrimaryStorageTypePrice</th>\n",
       "      <th>SecondaryStorageTypePrice</th>\n",
       "    </tr>\n",
       "  </thead>\n",
       "  <tbody>\n",
       "    <tr>\n",
       "      <th>0</th>\n",
       "      <td>Apple</td>\n",
       "      <td>13.3</td>\n",
       "      <td>8</td>\n",
       "      <td>1.37</td>\n",
       "      <td>1339.69</td>\n",
       "      <td>2560</td>\n",
       "      <td>1600</td>\n",
       "      <td>0</td>\n",
       "      <td>1</td>\n",
       "      <td>1</td>\n",
       "      <td>Intel</td>\n",
       "      <td>2.3</td>\n",
       "      <td>128</td>\n",
       "      <td>0</td>\n",
       "      <td>Intel</td>\n",
       "      <td>0</td>\n",
       "      <td>40</td>\n",
       "      <td>0.2</td>\n",
       "      <td>0.0</td>\n",
       "    </tr>\n",
       "    <tr>\n",
       "      <th>1</th>\n",
       "      <td>Apple</td>\n",
       "      <td>13.3</td>\n",
       "      <td>8</td>\n",
       "      <td>1.34</td>\n",
       "      <td>898.94</td>\n",
       "      <td>1440</td>\n",
       "      <td>900</td>\n",
       "      <td>0</td>\n",
       "      <td>0</td>\n",
       "      <td>0</td>\n",
       "      <td>Intel</td>\n",
       "      <td>1.8</td>\n",
       "      <td>128</td>\n",
       "      <td>0</td>\n",
       "      <td>Intel</td>\n",
       "      <td>0</td>\n",
       "      <td>40</td>\n",
       "      <td>0.3</td>\n",
       "      <td>0.0</td>\n",
       "    </tr>\n",
       "    <tr>\n",
       "      <th>2</th>\n",
       "      <td>HP</td>\n",
       "      <td>15.6</td>\n",
       "      <td>8</td>\n",
       "      <td>1.86</td>\n",
       "      <td>575.00</td>\n",
       "      <td>1920</td>\n",
       "      <td>1080</td>\n",
       "      <td>0</td>\n",
       "      <td>0</td>\n",
       "      <td>0</td>\n",
       "      <td>Intel</td>\n",
       "      <td>2.5</td>\n",
       "      <td>256</td>\n",
       "      <td>0</td>\n",
       "      <td>Intel</td>\n",
       "      <td>0</td>\n",
       "      <td>60</td>\n",
       "      <td>0.2</td>\n",
       "      <td>0.0</td>\n",
       "    </tr>\n",
       "    <tr>\n",
       "      <th>3</th>\n",
       "      <td>Apple</td>\n",
       "      <td>15.4</td>\n",
       "      <td>16</td>\n",
       "      <td>1.83</td>\n",
       "      <td>2537.45</td>\n",
       "      <td>2880</td>\n",
       "      <td>1800</td>\n",
       "      <td>0</td>\n",
       "      <td>1</td>\n",
       "      <td>1</td>\n",
       "      <td>Intel</td>\n",
       "      <td>2.7</td>\n",
       "      <td>512</td>\n",
       "      <td>0</td>\n",
       "      <td>AMD</td>\n",
       "      <td>0</td>\n",
       "      <td>40</td>\n",
       "      <td>0.2</td>\n",
       "      <td>0.0</td>\n",
       "    </tr>\n",
       "    <tr>\n",
       "      <th>4</th>\n",
       "      <td>Apple</td>\n",
       "      <td>13.3</td>\n",
       "      <td>8</td>\n",
       "      <td>1.37</td>\n",
       "      <td>1803.60</td>\n",
       "      <td>2560</td>\n",
       "      <td>1600</td>\n",
       "      <td>0</td>\n",
       "      <td>1</td>\n",
       "      <td>1</td>\n",
       "      <td>Intel</td>\n",
       "      <td>3.1</td>\n",
       "      <td>256</td>\n",
       "      <td>0</td>\n",
       "      <td>Intel</td>\n",
       "      <td>0</td>\n",
       "      <td>40</td>\n",
       "      <td>0.2</td>\n",
       "      <td>0.0</td>\n",
       "    </tr>\n",
       "  </tbody>\n",
       "</table>\n",
       "</div>"
      ],
      "text/plain": [
       "  Company  Inches  Ram  Weight  Price_euros  ScreenW  ScreenH  Touchscreen  \\\n",
       "0   Apple    13.3    8    1.37      1339.69     2560     1600            0   \n",
       "1   Apple    13.3    8    1.34       898.94     1440      900            0   \n",
       "2      HP    15.6    8    1.86       575.00     1920     1080            0   \n",
       "3   Apple    15.4   16    1.83      2537.45     2880     1800            0   \n",
       "4   Apple    13.3    8    1.37      1803.60     2560     1600            0   \n",
       "\n",
       "   IPSpanel  RetinaDisplay CPU_company  CPU_freq  PrimaryStorage  \\\n",
       "0         1              1       Intel       2.3             128   \n",
       "1         0              0       Intel       1.8             128   \n",
       "2         0              0       Intel       2.5             256   \n",
       "3         1              1       Intel       2.7             512   \n",
       "4         1              1       Intel       3.1             256   \n",
       "\n",
       "   SecondaryStorage GPU_company  OS_price Screen_Score  \\\n",
       "0                 0       Intel         0           40   \n",
       "1                 0       Intel         0           40   \n",
       "2                 0       Intel         0           60   \n",
       "3                 0         AMD         0           40   \n",
       "4                 0       Intel         0           40   \n",
       "\n",
       "  PrimaryStorageTypePrice SecondaryStorageTypePrice  \n",
       "0                     0.2                       0.0  \n",
       "1                     0.3                       0.0  \n",
       "2                     0.2                       0.0  \n",
       "3                     0.2                       0.0  \n",
       "4                     0.2                       0.0  "
      ]
     },
     "execution_count": 37,
     "metadata": {},
     "output_type": "execute_result"
    }
   ],
   "source": [
    "data.head()"
   ]
  },
  {
   "cell_type": "code",
   "execution_count": 38,
   "id": "c0b62c1f",
   "metadata": {
    "ExecuteTime": {
     "end_time": "2024-10-07T16:48:46.207715800Z",
     "start_time": "2024-10-07T16:48:45.770789800Z"
    },
    "collapsed": false,
    "execution": {
     "iopub.execute_input": "2024-10-07T18:16:23.469890Z",
     "iopub.status.busy": "2024-10-07T18:16:23.469316Z",
     "iopub.status.idle": "2024-10-07T18:16:23.479388Z",
     "shell.execute_reply": "2024-10-07T18:16:23.478019Z"
    },
    "jupyter": {
     "outputs_hidden": false
    },
    "papermill": {
     "duration": 0.041793,
     "end_time": "2024-10-07T18:16:23.482075",
     "exception": false,
     "start_time": "2024-10-07T18:16:23.440282",
     "status": "completed"
    },
    "tags": []
   },
   "outputs": [
    {
     "data": {
      "text/plain": [
       "8"
      ]
     },
     "execution_count": 38,
     "metadata": {},
     "output_type": "execute_result"
    }
   ],
   "source": [
    "data['Company'].nunique()"
   ]
  },
  {
   "cell_type": "code",
   "execution_count": 39,
   "id": "648649f5",
   "metadata": {
    "ExecuteTime": {
     "end_time": "2024-10-07T17:00:14.310996100Z",
     "start_time": "2024-10-07T17:00:14.184827300Z"
    },
    "collapsed": false,
    "execution": {
     "iopub.execute_input": "2024-10-07T18:16:23.541533Z",
     "iopub.status.busy": "2024-10-07T18:16:23.540306Z",
     "iopub.status.idle": "2024-10-07T18:16:23.559361Z",
     "shell.execute_reply": "2024-10-07T18:16:23.557792Z"
    },
    "jupyter": {
     "outputs_hidden": false
    },
    "papermill": {
     "duration": 0.052929,
     "end_time": "2024-10-07T18:16:23.562393",
     "exception": false,
     "start_time": "2024-10-07T18:16:23.509464",
     "status": "completed"
    },
    "tags": []
   },
   "outputs": [],
   "source": [
    "from sklearn.preprocessing import OneHotEncoder\n",
    "onh_enc = OneHotEncoder()\n",
    "onh_enc_array = onh_enc.fit_transform(data[[\"Company\",\"GPU_company\",\"CPU_company\"]]).toarray()\n",
    "onh_enc_df = pd.DataFrame(onh_enc_array).reset_index(drop=True)"
   ]
  },
  {
   "cell_type": "code",
   "execution_count": 40,
   "id": "65c888a5",
   "metadata": {
    "ExecuteTime": {
     "end_time": "2024-10-07T17:00:25.004938100Z",
     "start_time": "2024-10-07T17:00:24.942025400Z"
    },
    "collapsed": false,
    "execution": {
     "iopub.execute_input": "2024-10-07T18:16:23.619935Z",
     "iopub.status.busy": "2024-10-07T18:16:23.619364Z",
     "iopub.status.idle": "2024-10-07T18:16:23.629793Z",
     "shell.execute_reply": "2024-10-07T18:16:23.628074Z"
    },
    "jupyter": {
     "outputs_hidden": false
    },
    "papermill": {
     "duration": 0.043045,
     "end_time": "2024-10-07T18:16:23.632734",
     "exception": false,
     "start_time": "2024-10-07T18:16:23.589689",
     "status": "completed"
    },
    "tags": []
   },
   "outputs": [],
   "source": [
    "data_notString = data.drop(columns=[\"Company\",\"GPU_company\",\"CPU_company\"]).reset_index(drop=True)\n"
   ]
  },
  {
   "cell_type": "code",
   "execution_count": 41,
   "id": "493d2ea2",
   "metadata": {
    "ExecuteTime": {
     "end_time": "2024-10-07T17:00:25.193887200Z",
     "start_time": "2024-10-07T17:00:25.146522200Z"
    },
    "collapsed": false,
    "execution": {
     "iopub.execute_input": "2024-10-07T18:16:23.689980Z",
     "iopub.status.busy": "2024-10-07T18:16:23.689476Z",
     "iopub.status.idle": "2024-10-07T18:16:23.697611Z",
     "shell.execute_reply": "2024-10-07T18:16:23.696208Z"
    },
    "jupyter": {
     "outputs_hidden": false
    },
    "papermill": {
     "duration": 0.040372,
     "end_time": "2024-10-07T18:16:23.700492",
     "exception": false,
     "start_time": "2024-10-07T18:16:23.660120",
     "status": "completed"
    },
    "tags": []
   },
   "outputs": [],
   "source": [
    "preprocessed_df = pd.concat([data_notString,onh_enc_df],axis=1)"
   ]
  },
  {
   "cell_type": "code",
   "execution_count": 42,
   "id": "49e2cb13",
   "metadata": {
    "ExecuteTime": {
     "end_time": "2024-10-07T17:00:27.565208700Z",
     "start_time": "2024-10-07T17:00:27.512929100Z"
    },
    "collapsed": false,
    "execution": {
     "iopub.execute_input": "2024-10-07T18:16:23.758122Z",
     "iopub.status.busy": "2024-10-07T18:16:23.757693Z",
     "iopub.status.idle": "2024-10-07T18:16:23.801978Z",
     "shell.execute_reply": "2024-10-07T18:16:23.800333Z"
    },
    "jupyter": {
     "outputs_hidden": false
    },
    "papermill": {
     "duration": 0.076393,
     "end_time": "2024-10-07T18:16:23.805014",
     "exception": false,
     "start_time": "2024-10-07T18:16:23.728621",
     "status": "completed"
    },
    "tags": []
   },
   "outputs": [
    {
     "data": {
      "text/html": [
       "<div>\n",
       "<style scoped>\n",
       "    .dataframe tbody tr th:only-of-type {\n",
       "        vertical-align: middle;\n",
       "    }\n",
       "\n",
       "    .dataframe tbody tr th {\n",
       "        vertical-align: top;\n",
       "    }\n",
       "\n",
       "    .dataframe thead th {\n",
       "        text-align: right;\n",
       "    }\n",
       "</style>\n",
       "<table border=\"1\" class=\"dataframe\">\n",
       "  <thead>\n",
       "    <tr style=\"text-align: right;\">\n",
       "      <th></th>\n",
       "      <th>Inches</th>\n",
       "      <th>Ram</th>\n",
       "      <th>Weight</th>\n",
       "      <th>Price_euros</th>\n",
       "      <th>ScreenW</th>\n",
       "      <th>ScreenH</th>\n",
       "      <th>Touchscreen</th>\n",
       "      <th>IPSpanel</th>\n",
       "      <th>RetinaDisplay</th>\n",
       "      <th>CPU_freq</th>\n",
       "      <th>...</th>\n",
       "      <th>3</th>\n",
       "      <th>4</th>\n",
       "      <th>5</th>\n",
       "      <th>6</th>\n",
       "      <th>7</th>\n",
       "      <th>8</th>\n",
       "      <th>9</th>\n",
       "      <th>10</th>\n",
       "      <th>11</th>\n",
       "      <th>12</th>\n",
       "    </tr>\n",
       "  </thead>\n",
       "  <tbody>\n",
       "    <tr>\n",
       "      <th>0</th>\n",
       "      <td>13.3</td>\n",
       "      <td>8</td>\n",
       "      <td>1.37</td>\n",
       "      <td>1339.69</td>\n",
       "      <td>2560</td>\n",
       "      <td>1600</td>\n",
       "      <td>0</td>\n",
       "      <td>1</td>\n",
       "      <td>1</td>\n",
       "      <td>2.3</td>\n",
       "      <td>...</td>\n",
       "      <td>0.0</td>\n",
       "      <td>0.0</td>\n",
       "      <td>0.0</td>\n",
       "      <td>0.0</td>\n",
       "      <td>0.0</td>\n",
       "      <td>0.0</td>\n",
       "      <td>1.0</td>\n",
       "      <td>0.0</td>\n",
       "      <td>0.0</td>\n",
       "      <td>1.0</td>\n",
       "    </tr>\n",
       "    <tr>\n",
       "      <th>1</th>\n",
       "      <td>13.3</td>\n",
       "      <td>8</td>\n",
       "      <td>1.34</td>\n",
       "      <td>898.94</td>\n",
       "      <td>1440</td>\n",
       "      <td>900</td>\n",
       "      <td>0</td>\n",
       "      <td>0</td>\n",
       "      <td>0</td>\n",
       "      <td>1.8</td>\n",
       "      <td>...</td>\n",
       "      <td>0.0</td>\n",
       "      <td>0.0</td>\n",
       "      <td>0.0</td>\n",
       "      <td>0.0</td>\n",
       "      <td>0.0</td>\n",
       "      <td>0.0</td>\n",
       "      <td>1.0</td>\n",
       "      <td>0.0</td>\n",
       "      <td>0.0</td>\n",
       "      <td>1.0</td>\n",
       "    </tr>\n",
       "    <tr>\n",
       "      <th>2</th>\n",
       "      <td>15.6</td>\n",
       "      <td>8</td>\n",
       "      <td>1.86</td>\n",
       "      <td>575.00</td>\n",
       "      <td>1920</td>\n",
       "      <td>1080</td>\n",
       "      <td>0</td>\n",
       "      <td>0</td>\n",
       "      <td>0</td>\n",
       "      <td>2.5</td>\n",
       "      <td>...</td>\n",
       "      <td>0.0</td>\n",
       "      <td>1.0</td>\n",
       "      <td>0.0</td>\n",
       "      <td>0.0</td>\n",
       "      <td>0.0</td>\n",
       "      <td>0.0</td>\n",
       "      <td>1.0</td>\n",
       "      <td>0.0</td>\n",
       "      <td>0.0</td>\n",
       "      <td>1.0</td>\n",
       "    </tr>\n",
       "    <tr>\n",
       "      <th>3</th>\n",
       "      <td>15.4</td>\n",
       "      <td>16</td>\n",
       "      <td>1.83</td>\n",
       "      <td>2537.45</td>\n",
       "      <td>2880</td>\n",
       "      <td>1800</td>\n",
       "      <td>0</td>\n",
       "      <td>1</td>\n",
       "      <td>1</td>\n",
       "      <td>2.7</td>\n",
       "      <td>...</td>\n",
       "      <td>0.0</td>\n",
       "      <td>0.0</td>\n",
       "      <td>0.0</td>\n",
       "      <td>0.0</td>\n",
       "      <td>0.0</td>\n",
       "      <td>1.0</td>\n",
       "      <td>0.0</td>\n",
       "      <td>0.0</td>\n",
       "      <td>0.0</td>\n",
       "      <td>1.0</td>\n",
       "    </tr>\n",
       "    <tr>\n",
       "      <th>4</th>\n",
       "      <td>13.3</td>\n",
       "      <td>8</td>\n",
       "      <td>1.37</td>\n",
       "      <td>1803.60</td>\n",
       "      <td>2560</td>\n",
       "      <td>1600</td>\n",
       "      <td>0</td>\n",
       "      <td>1</td>\n",
       "      <td>1</td>\n",
       "      <td>3.1</td>\n",
       "      <td>...</td>\n",
       "      <td>0.0</td>\n",
       "      <td>0.0</td>\n",
       "      <td>0.0</td>\n",
       "      <td>0.0</td>\n",
       "      <td>0.0</td>\n",
       "      <td>0.0</td>\n",
       "      <td>1.0</td>\n",
       "      <td>0.0</td>\n",
       "      <td>0.0</td>\n",
       "      <td>1.0</td>\n",
       "    </tr>\n",
       "    <tr>\n",
       "      <th>...</th>\n",
       "      <td>...</td>\n",
       "      <td>...</td>\n",
       "      <td>...</td>\n",
       "      <td>...</td>\n",
       "      <td>...</td>\n",
       "      <td>...</td>\n",
       "      <td>...</td>\n",
       "      <td>...</td>\n",
       "      <td>...</td>\n",
       "      <td>...</td>\n",
       "      <td>...</td>\n",
       "      <td>...</td>\n",
       "      <td>...</td>\n",
       "      <td>...</td>\n",
       "      <td>...</td>\n",
       "      <td>...</td>\n",
       "      <td>...</td>\n",
       "      <td>...</td>\n",
       "      <td>...</td>\n",
       "      <td>...</td>\n",
       "      <td>...</td>\n",
       "    </tr>\n",
       "    <tr>\n",
       "      <th>1219</th>\n",
       "      <td>14.0</td>\n",
       "      <td>4</td>\n",
       "      <td>1.80</td>\n",
       "      <td>638.00</td>\n",
       "      <td>1920</td>\n",
       "      <td>1080</td>\n",
       "      <td>1</td>\n",
       "      <td>1</td>\n",
       "      <td>0</td>\n",
       "      <td>2.5</td>\n",
       "      <td>...</td>\n",
       "      <td>0.0</td>\n",
       "      <td>0.0</td>\n",
       "      <td>1.0</td>\n",
       "      <td>0.0</td>\n",
       "      <td>0.0</td>\n",
       "      <td>0.0</td>\n",
       "      <td>1.0</td>\n",
       "      <td>0.0</td>\n",
       "      <td>0.0</td>\n",
       "      <td>1.0</td>\n",
       "    </tr>\n",
       "    <tr>\n",
       "      <th>1220</th>\n",
       "      <td>13.3</td>\n",
       "      <td>16</td>\n",
       "      <td>1.30</td>\n",
       "      <td>1499.00</td>\n",
       "      <td>3200</td>\n",
       "      <td>1800</td>\n",
       "      <td>1</td>\n",
       "      <td>1</td>\n",
       "      <td>0</td>\n",
       "      <td>2.5</td>\n",
       "      <td>...</td>\n",
       "      <td>0.0</td>\n",
       "      <td>0.0</td>\n",
       "      <td>1.0</td>\n",
       "      <td>0.0</td>\n",
       "      <td>0.0</td>\n",
       "      <td>0.0</td>\n",
       "      <td>1.0</td>\n",
       "      <td>0.0</td>\n",
       "      <td>0.0</td>\n",
       "      <td>1.0</td>\n",
       "    </tr>\n",
       "    <tr>\n",
       "      <th>1221</th>\n",
       "      <td>14.0</td>\n",
       "      <td>2</td>\n",
       "      <td>1.50</td>\n",
       "      <td>229.00</td>\n",
       "      <td>1366</td>\n",
       "      <td>768</td>\n",
       "      <td>0</td>\n",
       "      <td>0</td>\n",
       "      <td>0</td>\n",
       "      <td>1.6</td>\n",
       "      <td>...</td>\n",
       "      <td>0.0</td>\n",
       "      <td>0.0</td>\n",
       "      <td>1.0</td>\n",
       "      <td>0.0</td>\n",
       "      <td>0.0</td>\n",
       "      <td>0.0</td>\n",
       "      <td>1.0</td>\n",
       "      <td>0.0</td>\n",
       "      <td>0.0</td>\n",
       "      <td>1.0</td>\n",
       "    </tr>\n",
       "    <tr>\n",
       "      <th>1222</th>\n",
       "      <td>15.6</td>\n",
       "      <td>6</td>\n",
       "      <td>2.19</td>\n",
       "      <td>764.00</td>\n",
       "      <td>1366</td>\n",
       "      <td>768</td>\n",
       "      <td>0</td>\n",
       "      <td>0</td>\n",
       "      <td>0</td>\n",
       "      <td>2.5</td>\n",
       "      <td>...</td>\n",
       "      <td>0.0</td>\n",
       "      <td>1.0</td>\n",
       "      <td>0.0</td>\n",
       "      <td>0.0</td>\n",
       "      <td>0.0</td>\n",
       "      <td>1.0</td>\n",
       "      <td>0.0</td>\n",
       "      <td>0.0</td>\n",
       "      <td>0.0</td>\n",
       "      <td>1.0</td>\n",
       "    </tr>\n",
       "    <tr>\n",
       "      <th>1223</th>\n",
       "      <td>15.6</td>\n",
       "      <td>4</td>\n",
       "      <td>2.20</td>\n",
       "      <td>369.00</td>\n",
       "      <td>1366</td>\n",
       "      <td>768</td>\n",
       "      <td>0</td>\n",
       "      <td>0</td>\n",
       "      <td>0</td>\n",
       "      <td>1.6</td>\n",
       "      <td>...</td>\n",
       "      <td>0.0</td>\n",
       "      <td>0.0</td>\n",
       "      <td>0.0</td>\n",
       "      <td>0.0</td>\n",
       "      <td>0.0</td>\n",
       "      <td>0.0</td>\n",
       "      <td>1.0</td>\n",
       "      <td>0.0</td>\n",
       "      <td>0.0</td>\n",
       "      <td>1.0</td>\n",
       "    </tr>\n",
       "  </tbody>\n",
       "</table>\n",
       "<p>1224 rows × 29 columns</p>\n",
       "</div>"
      ],
      "text/plain": [
       "      Inches  Ram  Weight  Price_euros  ScreenW  ScreenH  Touchscreen  \\\n",
       "0       13.3    8    1.37      1339.69     2560     1600            0   \n",
       "1       13.3    8    1.34       898.94     1440      900            0   \n",
       "2       15.6    8    1.86       575.00     1920     1080            0   \n",
       "3       15.4   16    1.83      2537.45     2880     1800            0   \n",
       "4       13.3    8    1.37      1803.60     2560     1600            0   \n",
       "...      ...  ...     ...          ...      ...      ...          ...   \n",
       "1219    14.0    4    1.80       638.00     1920     1080            1   \n",
       "1220    13.3   16    1.30      1499.00     3200     1800            1   \n",
       "1221    14.0    2    1.50       229.00     1366      768            0   \n",
       "1222    15.6    6    2.19       764.00     1366      768            0   \n",
       "1223    15.6    4    2.20       369.00     1366      768            0   \n",
       "\n",
       "      IPSpanel  RetinaDisplay  CPU_freq  ...    3    4    5    6    7    8  \\\n",
       "0            1              1       2.3  ...  0.0  0.0  0.0  0.0  0.0  0.0   \n",
       "1            0              0       1.8  ...  0.0  0.0  0.0  0.0  0.0  0.0   \n",
       "2            0              0       2.5  ...  0.0  1.0  0.0  0.0  0.0  0.0   \n",
       "3            1              1       2.7  ...  0.0  0.0  0.0  0.0  0.0  1.0   \n",
       "4            1              1       3.1  ...  0.0  0.0  0.0  0.0  0.0  0.0   \n",
       "...        ...            ...       ...  ...  ...  ...  ...  ...  ...  ...   \n",
       "1219         1              0       2.5  ...  0.0  0.0  1.0  0.0  0.0  0.0   \n",
       "1220         1              0       2.5  ...  0.0  0.0  1.0  0.0  0.0  0.0   \n",
       "1221         0              0       1.6  ...  0.0  0.0  1.0  0.0  0.0  0.0   \n",
       "1222         0              0       2.5  ...  0.0  1.0  0.0  0.0  0.0  1.0   \n",
       "1223         0              0       1.6  ...  0.0  0.0  0.0  0.0  0.0  0.0   \n",
       "\n",
       "        9   10   11   12  \n",
       "0     1.0  0.0  0.0  1.0  \n",
       "1     1.0  0.0  0.0  1.0  \n",
       "2     1.0  0.0  0.0  1.0  \n",
       "3     0.0  0.0  0.0  1.0  \n",
       "4     1.0  0.0  0.0  1.0  \n",
       "...   ...  ...  ...  ...  \n",
       "1219  1.0  0.0  0.0  1.0  \n",
       "1220  1.0  0.0  0.0  1.0  \n",
       "1221  1.0  0.0  0.0  1.0  \n",
       "1222  0.0  0.0  0.0  1.0  \n",
       "1223  1.0  0.0  0.0  1.0  \n",
       "\n",
       "[1224 rows x 29 columns]"
      ]
     },
     "execution_count": 42,
     "metadata": {},
     "output_type": "execute_result"
    }
   ],
   "source": [
    "preprocessed_df"
   ]
  },
  {
   "cell_type": "code",
   "execution_count": 43,
   "id": "ee72a150",
   "metadata": {
    "ExecuteTime": {
     "end_time": "2024-10-07T17:00:28.547653500Z",
     "start_time": "2024-10-07T17:00:28.495259200Z"
    },
    "collapsed": false,
    "execution": {
     "iopub.execute_input": "2024-10-07T18:16:23.863314Z",
     "iopub.status.busy": "2024-10-07T18:16:23.862733Z",
     "iopub.status.idle": "2024-10-07T18:16:23.898395Z",
     "shell.execute_reply": "2024-10-07T18:16:23.896814Z"
    },
    "jupyter": {
     "outputs_hidden": false
    },
    "papermill": {
     "duration": 0.068626,
     "end_time": "2024-10-07T18:16:23.901700",
     "exception": false,
     "start_time": "2024-10-07T18:16:23.833074",
     "status": "completed"
    },
    "tags": []
   },
   "outputs": [
    {
     "data": {
      "text/html": [
       "<div>\n",
       "<style scoped>\n",
       "    .dataframe tbody tr th:only-of-type {\n",
       "        vertical-align: middle;\n",
       "    }\n",
       "\n",
       "    .dataframe tbody tr th {\n",
       "        vertical-align: top;\n",
       "    }\n",
       "\n",
       "    .dataframe thead th {\n",
       "        text-align: right;\n",
       "    }\n",
       "</style>\n",
       "<table border=\"1\" class=\"dataframe\">\n",
       "  <thead>\n",
       "    <tr style=\"text-align: right;\">\n",
       "      <th></th>\n",
       "      <th>Inches</th>\n",
       "      <th>Ram</th>\n",
       "      <th>Weight</th>\n",
       "      <th>Price_euros</th>\n",
       "      <th>ScreenW</th>\n",
       "      <th>ScreenH</th>\n",
       "      <th>Touchscreen</th>\n",
       "      <th>IPSpanel</th>\n",
       "      <th>RetinaDisplay</th>\n",
       "      <th>CPU_freq</th>\n",
       "      <th>...</th>\n",
       "      <th>3</th>\n",
       "      <th>4</th>\n",
       "      <th>5</th>\n",
       "      <th>6</th>\n",
       "      <th>7</th>\n",
       "      <th>8</th>\n",
       "      <th>9</th>\n",
       "      <th>10</th>\n",
       "      <th>11</th>\n",
       "      <th>12</th>\n",
       "    </tr>\n",
       "  </thead>\n",
       "  <tbody>\n",
       "    <tr>\n",
       "      <th>0</th>\n",
       "      <td>13.3</td>\n",
       "      <td>8</td>\n",
       "      <td>1.37</td>\n",
       "      <td>1339.69</td>\n",
       "      <td>2560</td>\n",
       "      <td>1600</td>\n",
       "      <td>0</td>\n",
       "      <td>1</td>\n",
       "      <td>1</td>\n",
       "      <td>2.3</td>\n",
       "      <td>...</td>\n",
       "      <td>0.0</td>\n",
       "      <td>0.0</td>\n",
       "      <td>0.0</td>\n",
       "      <td>0.0</td>\n",
       "      <td>0.0</td>\n",
       "      <td>0.0</td>\n",
       "      <td>1.0</td>\n",
       "      <td>0.0</td>\n",
       "      <td>0.0</td>\n",
       "      <td>1.0</td>\n",
       "    </tr>\n",
       "    <tr>\n",
       "      <th>1</th>\n",
       "      <td>13.3</td>\n",
       "      <td>8</td>\n",
       "      <td>1.34</td>\n",
       "      <td>898.94</td>\n",
       "      <td>1440</td>\n",
       "      <td>900</td>\n",
       "      <td>0</td>\n",
       "      <td>0</td>\n",
       "      <td>0</td>\n",
       "      <td>1.8</td>\n",
       "      <td>...</td>\n",
       "      <td>0.0</td>\n",
       "      <td>0.0</td>\n",
       "      <td>0.0</td>\n",
       "      <td>0.0</td>\n",
       "      <td>0.0</td>\n",
       "      <td>0.0</td>\n",
       "      <td>1.0</td>\n",
       "      <td>0.0</td>\n",
       "      <td>0.0</td>\n",
       "      <td>1.0</td>\n",
       "    </tr>\n",
       "    <tr>\n",
       "      <th>2</th>\n",
       "      <td>15.6</td>\n",
       "      <td>8</td>\n",
       "      <td>1.86</td>\n",
       "      <td>575.00</td>\n",
       "      <td>1920</td>\n",
       "      <td>1080</td>\n",
       "      <td>0</td>\n",
       "      <td>0</td>\n",
       "      <td>0</td>\n",
       "      <td>2.5</td>\n",
       "      <td>...</td>\n",
       "      <td>0.0</td>\n",
       "      <td>1.0</td>\n",
       "      <td>0.0</td>\n",
       "      <td>0.0</td>\n",
       "      <td>0.0</td>\n",
       "      <td>0.0</td>\n",
       "      <td>1.0</td>\n",
       "      <td>0.0</td>\n",
       "      <td>0.0</td>\n",
       "      <td>1.0</td>\n",
       "    </tr>\n",
       "    <tr>\n",
       "      <th>3</th>\n",
       "      <td>15.4</td>\n",
       "      <td>16</td>\n",
       "      <td>1.83</td>\n",
       "      <td>2537.45</td>\n",
       "      <td>2880</td>\n",
       "      <td>1800</td>\n",
       "      <td>0</td>\n",
       "      <td>1</td>\n",
       "      <td>1</td>\n",
       "      <td>2.7</td>\n",
       "      <td>...</td>\n",
       "      <td>0.0</td>\n",
       "      <td>0.0</td>\n",
       "      <td>0.0</td>\n",
       "      <td>0.0</td>\n",
       "      <td>0.0</td>\n",
       "      <td>1.0</td>\n",
       "      <td>0.0</td>\n",
       "      <td>0.0</td>\n",
       "      <td>0.0</td>\n",
       "      <td>1.0</td>\n",
       "    </tr>\n",
       "    <tr>\n",
       "      <th>4</th>\n",
       "      <td>13.3</td>\n",
       "      <td>8</td>\n",
       "      <td>1.37</td>\n",
       "      <td>1803.60</td>\n",
       "      <td>2560</td>\n",
       "      <td>1600</td>\n",
       "      <td>0</td>\n",
       "      <td>1</td>\n",
       "      <td>1</td>\n",
       "      <td>3.1</td>\n",
       "      <td>...</td>\n",
       "      <td>0.0</td>\n",
       "      <td>0.0</td>\n",
       "      <td>0.0</td>\n",
       "      <td>0.0</td>\n",
       "      <td>0.0</td>\n",
       "      <td>0.0</td>\n",
       "      <td>1.0</td>\n",
       "      <td>0.0</td>\n",
       "      <td>0.0</td>\n",
       "      <td>1.0</td>\n",
       "    </tr>\n",
       "  </tbody>\n",
       "</table>\n",
       "<p>5 rows × 29 columns</p>\n",
       "</div>"
      ],
      "text/plain": [
       "   Inches  Ram  Weight  Price_euros  ScreenW  ScreenH  Touchscreen  IPSpanel  \\\n",
       "0    13.3    8    1.37      1339.69     2560     1600            0         1   \n",
       "1    13.3    8    1.34       898.94     1440      900            0         0   \n",
       "2    15.6    8    1.86       575.00     1920     1080            0         0   \n",
       "3    15.4   16    1.83      2537.45     2880     1800            0         1   \n",
       "4    13.3    8    1.37      1803.60     2560     1600            0         1   \n",
       "\n",
       "   RetinaDisplay  CPU_freq  ...    3    4    5    6    7    8    9   10   11  \\\n",
       "0              1       2.3  ...  0.0  0.0  0.0  0.0  0.0  0.0  1.0  0.0  0.0   \n",
       "1              0       1.8  ...  0.0  0.0  0.0  0.0  0.0  0.0  1.0  0.0  0.0   \n",
       "2              0       2.5  ...  0.0  1.0  0.0  0.0  0.0  0.0  1.0  0.0  0.0   \n",
       "3              1       2.7  ...  0.0  0.0  0.0  0.0  0.0  1.0  0.0  0.0  0.0   \n",
       "4              1       3.1  ...  0.0  0.0  0.0  0.0  0.0  0.0  1.0  0.0  0.0   \n",
       "\n",
       "    12  \n",
       "0  1.0  \n",
       "1  1.0  \n",
       "2  1.0  \n",
       "3  1.0  \n",
       "4  1.0  \n",
       "\n",
       "[5 rows x 29 columns]"
      ]
     },
     "execution_count": 43,
     "metadata": {},
     "output_type": "execute_result"
    }
   ],
   "source": [
    "preprocessed_df.head()\n"
   ]
  },
  {
   "cell_type": "code",
   "execution_count": 44,
   "id": "18af7a49",
   "metadata": {
    "ExecuteTime": {
     "end_time": "2024-10-07T17:00:47.379158800Z",
     "start_time": "2024-10-07T17:00:47.222107100Z"
    },
    "collapsed": false,
    "execution": {
     "iopub.execute_input": "2024-10-07T18:16:23.964195Z",
     "iopub.status.busy": "2024-10-07T18:16:23.963641Z",
     "iopub.status.idle": "2024-10-07T18:16:23.976709Z",
     "shell.execute_reply": "2024-10-07T18:16:23.975483Z"
    },
    "jupyter": {
     "outputs_hidden": false
    },
    "papermill": {
     "duration": 0.04758,
     "end_time": "2024-10-07T18:16:23.979594",
     "exception": false,
     "start_time": "2024-10-07T18:16:23.932014",
     "status": "completed"
    },
    "tags": []
   },
   "outputs": [
    {
     "data": {
      "text/plain": [
       "Inches                       0\n",
       "Ram                          0\n",
       "Weight                       0\n",
       "Price_euros                  0\n",
       "ScreenW                      0\n",
       "ScreenH                      0\n",
       "Touchscreen                  0\n",
       "IPSpanel                     0\n",
       "RetinaDisplay                0\n",
       "CPU_freq                     0\n",
       "PrimaryStorage               0\n",
       "SecondaryStorage             0\n",
       "OS_price                     0\n",
       "Screen_Score                 0\n",
       "PrimaryStorageTypePrice      0\n",
       "SecondaryStorageTypePrice    0\n",
       "0                            0\n",
       "1                            0\n",
       "2                            0\n",
       "3                            0\n",
       "4                            0\n",
       "5                            0\n",
       "6                            0\n",
       "7                            0\n",
       "8                            0\n",
       "9                            0\n",
       "10                           0\n",
       "11                           0\n",
       "12                           0\n",
       "dtype: int64"
      ]
     },
     "execution_count": 44,
     "metadata": {},
     "output_type": "execute_result"
    }
   ],
   "source": [
    "preprocessed_df.isna().sum()"
   ]
  },
  {
   "cell_type": "code",
   "execution_count": 45,
   "id": "525ab676",
   "metadata": {
    "ExecuteTime": {
     "end_time": "2024-10-07T17:00:50.255053100Z",
     "start_time": "2024-10-07T17:00:50.231404400Z"
    },
    "collapsed": false,
    "execution": {
     "iopub.execute_input": "2024-10-07T18:16:24.041505Z",
     "iopub.status.busy": "2024-10-07T18:16:24.041017Z",
     "iopub.status.idle": "2024-10-07T18:16:24.048860Z",
     "shell.execute_reply": "2024-10-07T18:16:24.047583Z"
    },
    "jupyter": {
     "outputs_hidden": false
    },
    "papermill": {
     "duration": 0.042282,
     "end_time": "2024-10-07T18:16:24.051851",
     "exception": false,
     "start_time": "2024-10-07T18:16:24.009569",
     "status": "completed"
    },
    "tags": []
   },
   "outputs": [],
   "source": [
    "X = preprocessed_df.drop(columns=[\"Price_euros\"])\n",
    "y = preprocessed_df['Price_euros']"
   ]
  },
  {
   "cell_type": "code",
   "execution_count": 46,
   "id": "61381d23",
   "metadata": {
    "ExecuteTime": {
     "end_time": "2024-10-07T17:00:53.170374100Z",
     "start_time": "2024-10-07T17:00:51.103875200Z"
    },
    "collapsed": false,
    "execution": {
     "iopub.execute_input": "2024-10-07T18:16:24.112460Z",
     "iopub.status.busy": "2024-10-07T18:16:24.112021Z",
     "iopub.status.idle": "2024-10-07T18:16:27.551980Z",
     "shell.execute_reply": "2024-10-07T18:16:27.550094Z"
    },
    "jupyter": {
     "outputs_hidden": false
    },
    "papermill": {
     "duration": 3.481613,
     "end_time": "2024-10-07T18:16:27.562857",
     "exception": false,
     "start_time": "2024-10-07T18:16:24.081244",
     "status": "completed"
    },
    "tags": []
   },
   "outputs": [
    {
     "data": {
      "image/png": "[encoded data removed]",
      "text/plain": [
       "<Figure size 2000x2000 with 2 Axes>"
      ]
     },
     "metadata": {},
     "output_type": "display_data"
    }
   ],
   "source": [
    "import seaborn as sns\n",
    "import matplotlib.pyplot as plt\n",
    "plt.figure(figsize=(20,20))\n",
    "sns.heatmap(X.corr(),cmap='viridis',annot=True)\n",
    "plt.show()"
   ]
  },
  {
   "cell_type": "code",
   "execution_count": 47,
   "id": "b943935e",
   "metadata": {
    "ExecuteTime": {
     "end_time": "2024-10-07T17:04:39.216140400Z",
     "start_time": "2024-10-07T17:04:39.129888Z"
    },
    "collapsed": false,
    "execution": {
     "iopub.execute_input": "2024-10-07T18:16:27.643903Z",
     "iopub.status.busy": "2024-10-07T18:16:27.643154Z",
     "iopub.status.idle": "2024-10-07T18:16:27.652061Z",
     "shell.execute_reply": "2024-10-07T18:16:27.650700Z"
    },
    "jupyter": {
     "outputs_hidden": false
    },
    "papermill": {
     "duration": 0.052487,
     "end_time": "2024-10-07T18:16:27.655086",
     "exception": false,
     "start_time": "2024-10-07T18:16:27.602599",
     "status": "completed"
    },
    "tags": []
   },
   "outputs": [],
   "source": [
    "X = np.asarray(X)\n",
    "y = np.asarray(y)"
   ]
  },
  {
   "cell_type": "code",
   "execution_count": 48,
   "id": "489e9423",
   "metadata": {
    "ExecuteTime": {
     "end_time": "2024-10-07T17:50:54.161168300Z",
     "start_time": "2024-10-07T17:50:54.062391500Z"
    },
    "collapsed": false,
    "execution": {
     "iopub.execute_input": "2024-10-07T18:16:27.734596Z",
     "iopub.status.busy": "2024-10-07T18:16:27.733965Z",
     "iopub.status.idle": "2024-10-07T18:16:27.846416Z",
     "shell.execute_reply": "2024-10-07T18:16:27.845032Z"
    },
    "jupyter": {
     "outputs_hidden": false
    },
    "papermill": {
     "duration": 0.155341,
     "end_time": "2024-10-07T18:16:27.849380",
     "exception": false,
     "start_time": "2024-10-07T18:16:27.694039",
     "status": "completed"
    },
    "tags": []
   },
   "outputs": [],
   "source": [
    "from sklearn.model_selection import train_test_split\n",
    "\n",
    "X_train, X_test, y_train, y_test = train_test_split(X,y,test_size=0.33)"
   ]
  },
  {
   "cell_type": "code",
   "execution_count": 49,
   "id": "51efc30e",
   "metadata": {
    "ExecuteTime": {
     "end_time": "2024-10-07T17:50:54.329909200Z",
     "start_time": "2024-10-07T17:50:54.292620800Z"
    },
    "collapsed": false,
    "execution": {
     "iopub.execute_input": "2024-10-07T18:16:27.983338Z",
     "iopub.status.busy": "2024-10-07T18:16:27.982824Z",
     "iopub.status.idle": "2024-10-07T18:16:28.086199Z",
     "shell.execute_reply": "2024-10-07T18:16:28.084883Z"
    },
    "jupyter": {
     "outputs_hidden": false
    },
    "papermill": {
     "duration": 0.145163,
     "end_time": "2024-10-07T18:16:28.089374",
     "exception": false,
     "start_time": "2024-10-07T18:16:27.944211",
     "status": "completed"
    },
    "tags": []
   },
   "outputs": [],
   "source": [
    "from sklearn.linear_model import LinearRegression"
   ]
  },
  {
   "cell_type": "code",
   "execution_count": null,
   "id": "3607a46b",
   "metadata": {
    "ExecuteTime": {
     "end_time": "2024-10-07T17:50:54.913589100Z",
     "start_time": "2024-10-07T17:50:54.882748300Z"
    },
    "collapsed": false,
    "jupyter": {
     "outputs_hidden": false
    },
    "papermill": {
     "duration": 0.039049,
     "end_time": "2024-10-07T18:16:28.167051",
     "exception": false,
     "start_time": "2024-10-07T18:16:28.128002",
     "status": "completed"
    },
    "tags": []
   },
   "outputs": [],
   "source": []
  },
  {
   "cell_type": "code",
   "execution_count": 50,
   "id": "c52a8bf5",
   "metadata": {
    "ExecuteTime": {
     "end_time": "2024-10-07T17:50:55.138834400Z",
     "start_time": "2024-10-07T17:50:55.071400400Z"
    },
    "collapsed": false,
    "execution": {
     "iopub.execute_input": "2024-10-07T18:16:28.251320Z",
     "iopub.status.busy": "2024-10-07T18:16:28.250795Z",
     "iopub.status.idle": "2024-10-07T18:16:28.288198Z",
     "shell.execute_reply": "2024-10-07T18:16:28.286561Z"
    },
    "jupyter": {
     "outputs_hidden": false
    },
    "papermill": {
     "duration": 0.084365,
     "end_time": "2024-10-07T18:16:28.293247",
     "exception": false,
     "start_time": "2024-10-07T18:16:28.208882",
     "status": "completed"
    },
    "tags": []
   },
   "outputs": [
    {
     "data": {
      "text/html": [
       "<style>#sk-container-id-1 {color: black;background-color: white;}#sk-container-id-1 pre{padding: 0;}#sk-container-id-1 div.sk-toggleable {background-color: white;}#sk-container-id-1 label.sk-toggleable__label {cursor: pointer;display: block;width: 100%;margin-bottom: 0;padding: 0.3em;box-sizing: border-box;text-align: center;}#sk-container-id-1 label.sk-toggleable__label-arrow:before {content: \"▸\";float: left;margin-right: 0.25em;color: #696969;}#sk-container-id-1 label.sk-toggleable__label-arrow:hover:before {color: black;}#sk-container-id-1 div.sk-estimator:hover label.sk-toggleable__label-arrow:before {color: black;}#sk-container-id-1 div.sk-toggleable__content {max-height: 0;max-width: 0;overflow: hidden;text-align: left;background-color: #f0f8ff;}#sk-container-id-1 div.sk-toggleable__content pre {margin: 0.2em;color: black;border-radius: 0.25em;background-color: #f0f8ff;}#sk-container-id-1 input.sk-toggleable__control:checked~div.sk-toggleable__content {max-height: 200px;max-width: 100%;overflow: auto;}#sk-container-id-1 input.sk-toggleable__control:checked~label.sk-toggleable__label-arrow:before {content: \"▾\";}#sk-container-id-1 div.sk-estimator input.sk-toggleable__control:checked~label.sk-toggleable__label {background-color: #d4ebff;}#sk-container-id-1 div.sk-label input.sk-toggleable__control:checked~label.sk-toggleable__label {background-color: #d4ebff;}#sk-container-id-1 input.sk-hidden--visually {border: 0;clip: rect(1px 1px 1px 1px);clip: rect(1px, 1px, 1px, 1px);height: 1px;margin: -1px;overflow: hidden;padding: 0;position: absolute;width: 1px;}#sk-container-id-1 div.sk-estimator {font-family: monospace;background-color: #f0f8ff;border: 1px dotted black;border-radius: 0.25em;box-sizing: border-box;margin-bottom: 0.5em;}#sk-container-id-1 div.sk-estimator:hover {background-color: #d4ebff;}#sk-container-id-1 div.sk-parallel-item::after {content: \"\";width: 100%;border-bottom: 1px solid gray;flex-grow: 1;}#sk-container-id-1 div.sk-label:hover label.sk-toggleable__label {background-color: #d4ebff;}#sk-container-id-1 div.sk-serial::before {content: \"\";position: absolute;border-left: 1px solid gray;box-sizing: border-box;top: 0;bottom: 0;left: 50%;z-index: 0;}#sk-container-id-1 div.sk-serial {display: flex;flex-direction: column;align-items: center;background-color: white;padding-right: 0.2em;padding-left: 0.2em;position: relative;}#sk-container-id-1 div.sk-item {position: relative;z-index: 1;}#sk-container-id-1 div.sk-parallel {display: flex;align-items: stretch;justify-content: center;background-color: white;position: relative;}#sk-container-id-1 div.sk-item::before, #sk-container-id-1 div.sk-parallel-item::before {content: \"\";position: absolute;border-left: 1px solid gray;box-sizing: border-box;top: 0;bottom: 0;left: 50%;z-index: -1;}#sk-container-id-1 div.sk-parallel-item {display: flex;flex-direction: column;z-index: 1;position: relative;background-color: white;}#sk-container-id-1 div.sk-parallel-item:first-child::after {align-self: flex-end;width: 50%;}#sk-container-id-1 div.sk-parallel-item:last-child::after {align-self: flex-start;width: 50%;}#sk-container-id-1 div.sk-parallel-item:only-child::after {width: 0;}#sk-container-id-1 div.sk-dashed-wrapped {border: 1px dashed gray;margin: 0 0.4em 0.5em 0.4em;box-sizing: border-box;padding-bottom: 0.4em;background-color: white;}#sk-container-id-1 div.sk-label label {font-family: monospace;font-weight: bold;display: inline-block;line-height: 1.2em;}#sk-container-id-1 div.sk-label-container {text-align: center;}#sk-container-id-1 div.sk-container {/* jupyter's `normalize.less` sets `[hidden] { display: none; }` but bootstrap.min.css set `[hidden] { display: none !important; }` so we also need the `!important` here to be able to override the default hidden behavior on the sphinx rendered scikit-learn.org. See: https://github.com/scikit-learn/scikit-learn/issues/21755 */display: inline-block !important;position: relative;}#sk-container-id-1 div.sk-text-repr-fallback {display: none;}</style><div id=\"sk-container-id-1\" class=\"sk-top-container\"><div class=\"sk-text-repr-fallback\"><pre>LinearRegression()</pre><b>In a Jupyter environment, please rerun this cell to show the HTML representation or trust the notebook. <br />On GitHub, the HTML representation is unable to render, please try loading this page with nbviewer.org.</b></div><div class=\"sk-container\" hidden><div class=\"sk-item\"><div class=\"sk-estimator sk-toggleable\"><input class=\"sk-toggleable__control sk-hidden--visually\" id=\"sk-estimator-id-1\" type=\"checkbox\" checked><label for=\"sk-estimator-id-1\" class=\"sk-toggleable__label sk-toggleable__label-arrow\">LinearRegression</label><div class=\"sk-toggleable__content\"><pre>LinearRegression()</pre></div></div></div></div></div>"
      ],
      "text/plain": [
       "LinearRegression()"
      ]
     },
     "execution_count": 50,
     "metadata": {},
     "output_type": "execute_result"
    }
   ],
   "source": [
    "ln = LinearRegression()\n",
    "ln.fit(X_train,y_train)"
   ]
  },
  {
   "cell_type": "code",
   "execution_count": 51,
   "id": "128cf987",
   "metadata": {
    "ExecuteTime": {
     "end_time": "2024-10-07T17:51:08.228770900Z",
     "start_time": "2024-10-07T17:51:08.118693100Z"
    },
    "collapsed": false,
    "execution": {
     "iopub.execute_input": "2024-10-07T18:16:28.404081Z",
     "iopub.status.busy": "2024-10-07T18:16:28.403573Z",
     "iopub.status.idle": "2024-10-07T18:16:28.419722Z",
     "shell.execute_reply": "2024-10-07T18:16:28.417937Z"
    },
    "jupyter": {
     "outputs_hidden": false
    },
    "papermill": {
     "duration": 0.082539,
     "end_time": "2024-10-07T18:16:28.431588",
     "exception": false,
     "start_time": "2024-10-07T18:16:28.349049",
     "status": "completed"
    },
    "tags": []
   },
   "outputs": [
    {
     "data": {
      "text/plain": [
       "0.700591822366843"
      ]
     },
     "execution_count": 51,
     "metadata": {},
     "output_type": "execute_result"
    }
   ],
   "source": [
    "ln.score(X_train,y_train)"
   ]
  },
  {
   "cell_type": "code",
   "execution_count": 52,
   "id": "a9728237",
   "metadata": {
    "ExecuteTime": {
     "end_time": "2024-10-07T17:51:22.156604200Z",
     "start_time": "2024-10-07T17:51:21.944618300Z"
    },
    "collapsed": false,
    "execution": {
     "iopub.execute_input": "2024-10-07T18:16:28.566810Z",
     "iopub.status.busy": "2024-10-07T18:16:28.566334Z",
     "iopub.status.idle": "2024-10-07T18:16:28.579865Z",
     "shell.execute_reply": "2024-10-07T18:16:28.578335Z"
    },
    "jupyter": {
     "outputs_hidden": false
    },
    "papermill": {
     "duration": 0.068077,
     "end_time": "2024-10-07T18:16:28.584043",
     "exception": false,
     "start_time": "2024-10-07T18:16:28.515966",
     "status": "completed"
    },
    "tags": []
   },
   "outputs": [
    {
     "data": {
      "text/plain": [
       "0.7034713603732881"
      ]
     },
     "execution_count": 52,
     "metadata": {},
     "output_type": "execute_result"
    }
   ],
   "source": [
    "ln.score(X_test,y_test)"
   ]
  },
  {
   "cell_type": "code",
   "execution_count": null,
   "id": "260b64ca",
   "metadata": {
    "collapsed": false,
    "jupyter": {
     "outputs_hidden": false
    },
    "papermill": {
     "duration": 0.052232,
     "end_time": "2024-10-07T18:16:28.719983",
     "exception": false,
     "start_time": "2024-10-07T18:16:28.667751",
     "status": "completed"
    },
    "tags": []
   },
   "outputs": [],
   "source": []
  }
 ],
 "metadata": {
  "kaggle": {
   "accelerator": "none",
   "dataSources": [
    {
     "datasetId": 5669158,
     "sourceId": 9352248,
     "sourceType": "datasetVersion"
    }
   ],
   "dockerImageVersionId": 30786,
   "isGpuEnabled": false,
   "isInternetEnabled": true,
   "language": "python",
   "sourceType": "notebook"
  },
  "kernelspec": {
   "display_name": "Python 3",
   "language": "python",
   "name": "python3"
  },
  "language_info": {
   "codemirror_mode": {
    "name": "ipython",
    "version": 3
   },
   "file_extension": ".py",
   "mimetype": "text/x-python",
   "name": "python",
   "nbconvert_exporter": "python",
   "pygments_lexer": "ipython3",
   "version": "3.10.14"
  },
  "papermill": {
   "default_parameters": {},
   "duration": 15.571638,
   "end_time": "2024-10-07T18:16:29.786671",
   "environment_variables": {},
   "exception": null,
   "input_path": "__notebook__.ipynb",
   "output_path": "__notebook__.ipynb",
   "parameters": {},
   "start_time": "2024-10-07T18:16:14.215033",
   "version": "2.6.0"
  }
 },
 "nbformat": 4,
 "nbformat_minor": 5
}
